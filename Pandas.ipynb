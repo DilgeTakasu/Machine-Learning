{
 "cells": [
  {
   "cell_type": "markdown",
   "id": "faff5ae0-1e92-4b4e-8bf9-ba110d9ed735",
   "metadata": {},
   "source": [
    "Pandas DataFrames are two dimensional data structures with labeled rows and columns, that can hold many data types. "
   ]
  },
  {
   "cell_type": "markdown",
   "id": "95e067ab-8739-46fd-a991-750186b56856",
   "metadata": {},
   "source": [
    "**Create a DataFrame Manually**"
   ]
  },
  {
   "cell_type": "markdown",
   "id": "230f83c7-b92b-4a8a-8a7b-fa84b741ee19",
   "metadata": {},
   "source": [
    "Creating a DataFrame manually from a dictionary of Pandas Series.\n",
    "1. The first step is to create the dictionary of Pandas Series.\n",
    "2. After the dictionary is created we can then pass the dictionary to the pd.DataFrame() function.\n"
   ]
  },
  {
   "cell_type": "markdown",
   "id": "b1ac73c5-d30f-4b5a-8119-e87ac9a7010d",
   "metadata": {},
   "source": [
    "**Example 1: Create a DataFrame using a dictionary of Series**"
   ]
  },
  {
   "cell_type": "code",
   "execution_count": 1,
   "id": "831fdb04-2e0f-4bca-a223-e9930014b6f1",
   "metadata": {},
   "outputs": [
    {
     "name": "stdout",
     "output_type": "stream",
     "text": [
      "<class 'dict'>\n"
     ]
    }
   ],
   "source": [
    "import pandas as pd\n",
    "\n",
    "items = {'Alice': pd.Series(data = [40, 110, 500, 45], index = ['book', 'glasses', 'bike', 'pants']),\n",
    "          'Bob': pd.Series(data = [245, 25, 55], index = ['bike', 'pants', 'watch'])}\n",
    "\n",
    "print(type(items))        "
   ]
  },
  {
   "cell_type": "code",
   "execution_count": 2,
   "id": "b553cb20-39dc-413e-8526-78151ec778d4",
   "metadata": {},
   "outputs": [
    {
     "data": {
      "text/html": [
       "<div>\n",
       "<style scoped>\n",
       "    .dataframe tbody tr th:only-of-type {\n",
       "        vertical-align: middle;\n",
       "    }\n",
       "\n",
       "    .dataframe tbody tr th {\n",
       "        vertical-align: top;\n",
       "    }\n",
       "\n",
       "    .dataframe thead th {\n",
       "        text-align: right;\n",
       "    }\n",
       "</style>\n",
       "<table border=\"1\" class=\"dataframe\">\n",
       "  <thead>\n",
       "    <tr style=\"text-align: right;\">\n",
       "      <th></th>\n",
       "      <th>Alice</th>\n",
       "      <th>Bob</th>\n",
       "    </tr>\n",
       "  </thead>\n",
       "  <tbody>\n",
       "    <tr>\n",
       "      <th>bike</th>\n",
       "      <td>500.0</td>\n",
       "      <td>245.0</td>\n",
       "    </tr>\n",
       "    <tr>\n",
       "      <th>book</th>\n",
       "      <td>40.0</td>\n",
       "      <td>NaN</td>\n",
       "    </tr>\n",
       "    <tr>\n",
       "      <th>glasses</th>\n",
       "      <td>110.0</td>\n",
       "      <td>NaN</td>\n",
       "    </tr>\n",
       "    <tr>\n",
       "      <th>pants</th>\n",
       "      <td>45.0</td>\n",
       "      <td>25.0</td>\n",
       "    </tr>\n",
       "    <tr>\n",
       "      <th>watch</th>\n",
       "      <td>NaN</td>\n",
       "      <td>55.0</td>\n",
       "    </tr>\n",
       "  </tbody>\n",
       "</table>\n",
       "</div>"
      ],
      "text/plain": [
       "         Alice    Bob\n",
       "bike     500.0  245.0\n",
       "book      40.0    NaN\n",
       "glasses  110.0    NaN\n",
       "pants     45.0   25.0\n",
       "watch      NaN   55.0"
      ]
     },
     "execution_count": 2,
     "metadata": {},
     "output_type": "execute_result"
    }
   ],
   "source": [
    "shopping_carts = pd.DataFrame(items)\n",
    "shopping_carts"
   ]
  },
  {
   "cell_type": "markdown",
   "id": "ac5f78a8-5086-4a06-9b94-ed25d39de62a",
   "metadata": {},
   "source": [
    "**Example 2: DataFrame assigns the numerical row indexes by default**"
   ]
  },
  {
   "cell_type": "code",
   "execution_count": 3,
   "id": "a5c66fd0-eaf1-4c2d-93fd-3ea7775c76e6",
   "metadata": {},
   "outputs": [
    {
     "data": {
      "text/html": [
       "<div>\n",
       "<style scoped>\n",
       "    .dataframe tbody tr th:only-of-type {\n",
       "        vertical-align: middle;\n",
       "    }\n",
       "\n",
       "    .dataframe tbody tr th {\n",
       "        vertical-align: top;\n",
       "    }\n",
       "\n",
       "    .dataframe thead th {\n",
       "        text-align: right;\n",
       "    }\n",
       "</style>\n",
       "<table border=\"1\" class=\"dataframe\">\n",
       "  <thead>\n",
       "    <tr style=\"text-align: right;\">\n",
       "      <th></th>\n",
       "      <th>Alice</th>\n",
       "      <th>Bob</th>\n",
       "    </tr>\n",
       "  </thead>\n",
       "  <tbody>\n",
       "    <tr>\n",
       "      <th>0</th>\n",
       "      <td>40</td>\n",
       "      <td>245.0</td>\n",
       "    </tr>\n",
       "    <tr>\n",
       "      <th>1</th>\n",
       "      <td>110</td>\n",
       "      <td>25.0</td>\n",
       "    </tr>\n",
       "    <tr>\n",
       "      <th>2</th>\n",
       "      <td>500</td>\n",
       "      <td>55.0</td>\n",
       "    </tr>\n",
       "    <tr>\n",
       "      <th>3</th>\n",
       "      <td>45</td>\n",
       "      <td>NaN</td>\n",
       "    </tr>\n",
       "  </tbody>\n",
       "</table>\n",
       "</div>"
      ],
      "text/plain": [
       "   Alice    Bob\n",
       "0     40  245.0\n",
       "1    110   25.0\n",
       "2    500   55.0\n",
       "3     45    NaN"
      ]
     },
     "execution_count": 3,
     "metadata": {},
     "output_type": "execute_result"
    }
   ],
   "source": [
    "data = {'Alice': pd.Series(data = [40, 110, 500, 45]),\n",
    "          'Bob': pd.Series(data = [245, 25, 55])}\n",
    "\n",
    "df = pd.DataFrame(data)\n",
    "\n",
    "df"
   ]
  },
  {
   "cell_type": "code",
   "execution_count": 4,
   "id": "93d44d3e-2886-47de-8ba1-9df5669189d6",
   "metadata": {},
   "outputs": [
    {
     "name": "stdout",
     "output_type": "stream",
     "text": [
      "shopping_carts has shape: (5, 2)\n",
      "shopping_carts has dimension: 2\n",
      "shopping_carts has a total of: 10 elements\n",
      "\n",
      "The data in shopping_carts is:\n",
      " [[500. 245.]\n",
      " [ 40.  nan]\n",
      " [110.  nan]\n",
      " [ 45.  25.]\n",
      " [ nan  55.]]\n",
      "\n",
      "The row index in shopping_carts is: Index(['bike', 'book', 'glasses', 'pants', 'watch'], dtype='object')\n",
      "\n",
      "The column index in shopping_carts is: Index(['Alice', 'Bob'], dtype='object')\n"
     ]
    }
   ],
   "source": [
    "print('shopping_carts has shape:', shopping_carts.shape)\n",
    "print('shopping_carts has dimension:', shopping_carts.ndim)\n",
    "print('shopping_carts has a total of:', shopping_carts.size, 'elements')\n",
    "print()\n",
    "print('The data in shopping_carts is:\\n', shopping_carts.values)\n",
    "print()\n",
    "print('The row index in shopping_carts is:', shopping_carts.index)\n",
    "print()\n",
    "print('The column index in shopping_carts is:', shopping_carts.columns)"
   ]
  },
  {
   "cell_type": "code",
   "execution_count": 5,
   "id": "17ebaa0b-e9c3-44f4-8ecd-b89fac3b9055",
   "metadata": {},
   "outputs": [
    {
     "data": {
      "text/html": [
       "<div>\n",
       "<style scoped>\n",
       "    .dataframe tbody tr th:only-of-type {\n",
       "        vertical-align: middle;\n",
       "    }\n",
       "\n",
       "    .dataframe tbody tr th {\n",
       "        vertical-align: top;\n",
       "    }\n",
       "\n",
       "    .dataframe thead th {\n",
       "        text-align: right;\n",
       "    }\n",
       "</style>\n",
       "<table border=\"1\" class=\"dataframe\">\n",
       "  <thead>\n",
       "    <tr style=\"text-align: right;\">\n",
       "      <th></th>\n",
       "      <th>Bob</th>\n",
       "    </tr>\n",
       "  </thead>\n",
       "  <tbody>\n",
       "    <tr>\n",
       "      <th>bike</th>\n",
       "      <td>245</td>\n",
       "    </tr>\n",
       "    <tr>\n",
       "      <th>pants</th>\n",
       "      <td>25</td>\n",
       "    </tr>\n",
       "    <tr>\n",
       "      <th>watch</th>\n",
       "      <td>55</td>\n",
       "    </tr>\n",
       "  </tbody>\n",
       "</table>\n",
       "</div>"
      ],
      "text/plain": [
       "       Bob\n",
       "bike   245\n",
       "pants   25\n",
       "watch   55"
      ]
     },
     "execution_count": 5,
     "metadata": {},
     "output_type": "execute_result"
    }
   ],
   "source": [
    "bob_shopping_cart = pd.DataFrame(items, columns = ['Bob'])\n",
    "bob_shopping_cart"
   ]
  },
  {
   "cell_type": "markdown",
   "id": "7d98a2f4-beb7-4185-abc4-e7def0fa542c",
   "metadata": {},
   "source": [
    "**Selecting Spesific Rows of a DataFrame**"
   ]
  },
  {
   "cell_type": "code",
   "execution_count": 6,
   "id": "037f58a2-0255-494a-86f6-8beac04c33ff",
   "metadata": {},
   "outputs": [
    {
     "data": {
      "text/html": [
       "<div>\n",
       "<style scoped>\n",
       "    .dataframe tbody tr th:only-of-type {\n",
       "        vertical-align: middle;\n",
       "    }\n",
       "\n",
       "    .dataframe tbody tr th {\n",
       "        vertical-align: top;\n",
       "    }\n",
       "\n",
       "    .dataframe thead th {\n",
       "        text-align: right;\n",
       "    }\n",
       "</style>\n",
       "<table border=\"1\" class=\"dataframe\">\n",
       "  <thead>\n",
       "    <tr style=\"text-align: right;\">\n",
       "      <th></th>\n",
       "      <th>Alice</th>\n",
       "      <th>Bob</th>\n",
       "    </tr>\n",
       "  </thead>\n",
       "  <tbody>\n",
       "    <tr>\n",
       "      <th>pants</th>\n",
       "      <td>45</td>\n",
       "      <td>25.0</td>\n",
       "    </tr>\n",
       "    <tr>\n",
       "      <th>book</th>\n",
       "      <td>40</td>\n",
       "      <td>NaN</td>\n",
       "    </tr>\n",
       "  </tbody>\n",
       "</table>\n",
       "</div>"
      ],
      "text/plain": [
       "       Alice   Bob\n",
       "pants     45  25.0\n",
       "book      40   NaN"
      ]
     },
     "execution_count": 6,
     "metadata": {},
     "output_type": "execute_result"
    }
   ],
   "source": [
    "selected_items = pd.DataFrame(items, index = ['pants', 'book'])\n",
    "selected_items"
   ]
  },
  {
   "cell_type": "markdown",
   "id": "d8a954b4-425f-4cfa-a171-4d4914d0a763",
   "metadata": {},
   "source": [
    "**Selecting Spesific Columns of a DataFrame**"
   ]
  },
  {
   "cell_type": "code",
   "execution_count": 7,
   "id": "1d596f2c-e66b-415a-9b70-419f3829edd6",
   "metadata": {},
   "outputs": [
    {
     "data": {
      "text/html": [
       "<div>\n",
       "<style scoped>\n",
       "    .dataframe tbody tr th:only-of-type {\n",
       "        vertical-align: middle;\n",
       "    }\n",
       "\n",
       "    .dataframe tbody tr th {\n",
       "        vertical-align: top;\n",
       "    }\n",
       "\n",
       "    .dataframe thead th {\n",
       "        text-align: right;\n",
       "    }\n",
       "</style>\n",
       "<table border=\"1\" class=\"dataframe\">\n",
       "  <thead>\n",
       "    <tr style=\"text-align: right;\">\n",
       "      <th></th>\n",
       "      <th>Alice</th>\n",
       "    </tr>\n",
       "  </thead>\n",
       "  <tbody>\n",
       "    <tr>\n",
       "      <th>glasses</th>\n",
       "      <td>110</td>\n",
       "    </tr>\n",
       "    <tr>\n",
       "      <th>bike</th>\n",
       "      <td>500</td>\n",
       "    </tr>\n",
       "  </tbody>\n",
       "</table>\n",
       "</div>"
      ],
      "text/plain": [
       "         Alice\n",
       "glasses    110\n",
       "bike       500"
      ]
     },
     "execution_count": 7,
     "metadata": {},
     "output_type": "execute_result"
    }
   ],
   "source": [
    "alice_selected_items = pd.DataFrame(items, index = ['glasses', 'bike'], columns = ['Alice'])\n",
    "alice_selected_items"
   ]
  },
  {
   "cell_type": "markdown",
   "id": "4ef93300-f3b9-4371-8ce1-591d64c903ae",
   "metadata": {},
   "source": [
    "You can also manually create DataFrames from a dictionary of lists (arrays). The procedure is the same as before, we start by creating the dictionary and then passing the dictionary to the pd.DataFrame() function. In this case, however, all the lists (arrays) in the dictionary must be of the same length."
   ]
  },
  {
   "cell_type": "markdown",
   "id": "55161a3e-cf27-4429-bc20-b75ab6256c74",
   "metadata": {},
   "source": [
    "**Create a DataFrame using a dictionary of lists**"
   ]
  },
  {
   "cell_type": "code",
   "execution_count": 8,
   "id": "c5e4c710-1f8b-403e-9088-f693ab4ee879",
   "metadata": {},
   "outputs": [
    {
     "data": {
      "text/html": [
       "<div>\n",
       "<style scoped>\n",
       "    .dataframe tbody tr th:only-of-type {\n",
       "        vertical-align: middle;\n",
       "    }\n",
       "\n",
       "    .dataframe tbody tr th {\n",
       "        vertical-align: top;\n",
       "    }\n",
       "\n",
       "    .dataframe thead th {\n",
       "        text-align: right;\n",
       "    }\n",
       "</style>\n",
       "<table border=\"1\" class=\"dataframe\">\n",
       "  <thead>\n",
       "    <tr style=\"text-align: right;\">\n",
       "      <th></th>\n",
       "      <th>Floats</th>\n",
       "      <th>Integers</th>\n",
       "    </tr>\n",
       "  </thead>\n",
       "  <tbody>\n",
       "    <tr>\n",
       "      <th>0</th>\n",
       "      <td>4.5</td>\n",
       "      <td>1</td>\n",
       "    </tr>\n",
       "    <tr>\n",
       "      <th>1</th>\n",
       "      <td>8.2</td>\n",
       "      <td>2</td>\n",
       "    </tr>\n",
       "    <tr>\n",
       "      <th>2</th>\n",
       "      <td>9.6</td>\n",
       "      <td>3</td>\n",
       "    </tr>\n",
       "  </tbody>\n",
       "</table>\n",
       "</div>"
      ],
      "text/plain": [
       "   Floats  Integers\n",
       "0     4.5         1\n",
       "1     8.2         2\n",
       "2     9.6         3"
      ]
     },
     "execution_count": 8,
     "metadata": {},
     "output_type": "execute_result"
    }
   ],
   "source": [
    "data = {'Floats': [4.5, 8.2, 9.6],\n",
    "        'Integers': [1, 2, 3]}\n",
    "\n",
    "df = pd.DataFrame(data)\n",
    "\n",
    "df"
   ]
  },
  {
   "cell_type": "markdown",
   "id": "731991e5-ddc6-473e-80c9-ba781e1ceb16",
   "metadata": {},
   "source": [
    "**Create a DataFrame using a dictionary of lists, and custom row-indexes (labels)**"
   ]
  },
  {
   "cell_type": "code",
   "execution_count": 9,
   "id": "b124eac3-2d76-4425-b9e1-8e19263f19cf",
   "metadata": {},
   "outputs": [
    {
     "data": {
      "text/html": [
       "<div>\n",
       "<style scoped>\n",
       "    .dataframe tbody tr th:only-of-type {\n",
       "        vertical-align: middle;\n",
       "    }\n",
       "\n",
       "    .dataframe tbody tr th {\n",
       "        vertical-align: top;\n",
       "    }\n",
       "\n",
       "    .dataframe thead th {\n",
       "        text-align: right;\n",
       "    }\n",
       "</style>\n",
       "<table border=\"1\" class=\"dataframe\">\n",
       "  <thead>\n",
       "    <tr style=\"text-align: right;\">\n",
       "      <th></th>\n",
       "      <th>Floats</th>\n",
       "      <th>Integers</th>\n",
       "    </tr>\n",
       "  </thead>\n",
       "  <tbody>\n",
       "    <tr>\n",
       "      <th>label 1</th>\n",
       "      <td>4.5</td>\n",
       "      <td>1</td>\n",
       "    </tr>\n",
       "    <tr>\n",
       "      <th>label 2</th>\n",
       "      <td>8.2</td>\n",
       "      <td>2</td>\n",
       "    </tr>\n",
       "    <tr>\n",
       "      <th>label 3</th>\n",
       "      <td>9.6</td>\n",
       "      <td>3</td>\n",
       "    </tr>\n",
       "  </tbody>\n",
       "</table>\n",
       "</div>"
      ],
      "text/plain": [
       "         Floats  Integers\n",
       "label 1     4.5         1\n",
       "label 2     8.2         2\n",
       "label 3     9.6         3"
      ]
     },
     "execution_count": 9,
     "metadata": {},
     "output_type": "execute_result"
    }
   ],
   "source": [
    "data = {'Floats': [4.5, 8.2, 9.6],\n",
    "        'Integers': [1, 2, 3]}\n",
    "\n",
    "df = pd.DataFrame(data, index = ['label 1', 'label 2', 'label 3'])\n",
    "\n",
    "df"
   ]
  },
  {
   "cell_type": "markdown",
   "id": "cbb4868d-b7ca-43ae-8a02-643440636017",
   "metadata": {},
   "source": [
    "**Access Elements Using Labels**"
   ]
  },
  {
   "cell_type": "code",
   "execution_count": 10,
   "id": "2aa1896f-e513-4828-bb52-f362caaedf90",
   "metadata": {},
   "outputs": [
    {
     "data": {
      "text/html": [
       "<div>\n",
       "<style scoped>\n",
       "    .dataframe tbody tr th:only-of-type {\n",
       "        vertical-align: middle;\n",
       "    }\n",
       "\n",
       "    .dataframe tbody tr th {\n",
       "        vertical-align: top;\n",
       "    }\n",
       "\n",
       "    .dataframe thead th {\n",
       "        text-align: right;\n",
       "    }\n",
       "</style>\n",
       "<table border=\"1\" class=\"dataframe\">\n",
       "  <thead>\n",
       "    <tr style=\"text-align: right;\">\n",
       "      <th></th>\n",
       "      <th>bikes</th>\n",
       "      <th>pants</th>\n",
       "      <th>watches</th>\n",
       "      <th>glasses</th>\n",
       "    </tr>\n",
       "  </thead>\n",
       "  <tbody>\n",
       "    <tr>\n",
       "      <th>store 1</th>\n",
       "      <td>20</td>\n",
       "      <td>30</td>\n",
       "      <td>35</td>\n",
       "      <td>NaN</td>\n",
       "    </tr>\n",
       "    <tr>\n",
       "      <th>store 2</th>\n",
       "      <td>15</td>\n",
       "      <td>5</td>\n",
       "      <td>10</td>\n",
       "      <td>50.0</td>\n",
       "    </tr>\n",
       "  </tbody>\n",
       "</table>\n",
       "</div>"
      ],
      "text/plain": [
       "         bikes  pants  watches  glasses\n",
       "store 1     20     30       35      NaN\n",
       "store 2     15      5       10     50.0"
      ]
     },
     "execution_count": 10,
     "metadata": {},
     "output_type": "execute_result"
    }
   ],
   "source": [
    "# We create a list of Python dictionaries\n",
    "items2 = [{'bikes': 20, 'pants': 30, 'watches': 35}, \n",
    "          {'watches': 10, 'glasses': 50, 'bikes': 15, 'pants':5}]\n",
    "\n",
    "# We create a DataFrame  and provide the row index\n",
    "store_items = pd.DataFrame(items2, index = ['store 1', 'store 2'])\n",
    "store_items"
   ]
  },
  {
   "cell_type": "code",
   "execution_count": 11,
   "id": "4530d5bf-d2e3-45ec-9577-17f0c0694156",
   "metadata": {},
   "outputs": [
    {
     "name": "stdout",
     "output_type": "stream",
     "text": [
      "         bikes  pants  watches  glasses\n",
      "store 1     20     30       35      NaN\n",
      "store 2     15      5       10     50.0\n",
      "\n",
      "How many bikes are in each store:\n",
      "          bikes\n",
      "store 1     20\n",
      "store 2     15\n",
      "\n",
      "How many bikes and pants are in each store:\n",
      "          bikes  pants\n",
      "store 1     20     30\n",
      "store 2     15      5\n",
      "\n",
      "What items are in Store 1:\n",
      "          bikes  pants  watches  glasses\n",
      "store 1     20     30       35      NaN\n",
      "\n",
      "How many bikes are in Store 2: 15\n"
     ]
    }
   ],
   "source": [
    "print(store_items)\n",
    "\n",
    "# We access rows, columns and elements using labels\n",
    "print()\n",
    "print('How many bikes are in each store:\\n', store_items[['bikes']])\n",
    "print()\n",
    "print('How many bikes and pants are in each store:\\n', store_items[['bikes', 'pants']])\n",
    "print()\n",
    "print('What items are in Store 1:\\n', store_items.loc[['store 1']])\n",
    "print()\n",
    "print('How many bikes are in Store 2:', store_items['bikes']['store 2'])"
   ]
  },
  {
   "cell_type": "markdown",
   "id": "1484ee51-eb8d-4f77-aa7a-36f24760140e",
   "metadata": {},
   "source": [
    "It is important to know that when accessing individual elements in a DataFrame, the labels should always be provided with the column label first, i.e., in the form dataframe[column][row]. For example, when retrieving the number **bikes** in **store 2**, we first used the column label bikes and then the row label store 2. If we provide the row label first we will get an error. "
   ]
  },
  {
   "cell_type": "markdown",
   "id": "000e1d5e-70de-418d-9753-27138e7f96d5",
   "metadata": {},
   "source": [
    "**Add a column to an existing DataFrame**"
   ]
  },
  {
   "cell_type": "code",
   "execution_count": 12,
   "id": "63425162-b69e-4f5d-a40f-9fd63209c3e7",
   "metadata": {},
   "outputs": [
    {
     "data": {
      "text/html": [
       "<div>\n",
       "<style scoped>\n",
       "    .dataframe tbody tr th:only-of-type {\n",
       "        vertical-align: middle;\n",
       "    }\n",
       "\n",
       "    .dataframe tbody tr th {\n",
       "        vertical-align: top;\n",
       "    }\n",
       "\n",
       "    .dataframe thead th {\n",
       "        text-align: right;\n",
       "    }\n",
       "</style>\n",
       "<table border=\"1\" class=\"dataframe\">\n",
       "  <thead>\n",
       "    <tr style=\"text-align: right;\">\n",
       "      <th></th>\n",
       "      <th>bikes</th>\n",
       "      <th>pants</th>\n",
       "      <th>watches</th>\n",
       "      <th>glasses</th>\n",
       "      <th>shirts</th>\n",
       "    </tr>\n",
       "  </thead>\n",
       "  <tbody>\n",
       "    <tr>\n",
       "      <th>store 1</th>\n",
       "      <td>20</td>\n",
       "      <td>30</td>\n",
       "      <td>35</td>\n",
       "      <td>NaN</td>\n",
       "      <td>15</td>\n",
       "    </tr>\n",
       "    <tr>\n",
       "      <th>store 2</th>\n",
       "      <td>15</td>\n",
       "      <td>5</td>\n",
       "      <td>10</td>\n",
       "      <td>50.0</td>\n",
       "      <td>2</td>\n",
       "    </tr>\n",
       "  </tbody>\n",
       "</table>\n",
       "</div>"
      ],
      "text/plain": [
       "         bikes  pants  watches  glasses  shirts\n",
       "store 1     20     30       35      NaN      15\n",
       "store 2     15      5       10     50.0       2"
      ]
     },
     "execution_count": 12,
     "metadata": {},
     "output_type": "execute_result"
    }
   ],
   "source": [
    "store_items['shirts'] = [15, 2]\n",
    "\n",
    "store_items"
   ]
  },
  {
   "cell_type": "code",
   "execution_count": 13,
   "id": "072d3ade-6c01-45f6-923b-49c8d1cccde2",
   "metadata": {},
   "outputs": [
    {
     "data": {
      "text/html": [
       "<div>\n",
       "<style scoped>\n",
       "    .dataframe tbody tr th:only-of-type {\n",
       "        vertical-align: middle;\n",
       "    }\n",
       "\n",
       "    .dataframe tbody tr th {\n",
       "        vertical-align: top;\n",
       "    }\n",
       "\n",
       "    .dataframe thead th {\n",
       "        text-align: right;\n",
       "    }\n",
       "</style>\n",
       "<table border=\"1\" class=\"dataframe\">\n",
       "  <thead>\n",
       "    <tr style=\"text-align: right;\">\n",
       "      <th></th>\n",
       "      <th>bikes</th>\n",
       "      <th>pants</th>\n",
       "      <th>watches</th>\n",
       "      <th>glasses</th>\n",
       "      <th>shirts</th>\n",
       "      <th>suits</th>\n",
       "    </tr>\n",
       "  </thead>\n",
       "  <tbody>\n",
       "    <tr>\n",
       "      <th>store 1</th>\n",
       "      <td>20</td>\n",
       "      <td>30</td>\n",
       "      <td>35</td>\n",
       "      <td>NaN</td>\n",
       "      <td>15</td>\n",
       "      <td>45</td>\n",
       "    </tr>\n",
       "    <tr>\n",
       "      <th>store 2</th>\n",
       "      <td>15</td>\n",
       "      <td>5</td>\n",
       "      <td>10</td>\n",
       "      <td>50.0</td>\n",
       "      <td>2</td>\n",
       "      <td>7</td>\n",
       "    </tr>\n",
       "  </tbody>\n",
       "</table>\n",
       "</div>"
      ],
      "text/plain": [
       "         bikes  pants  watches  glasses  shirts  suits\n",
       "store 1     20     30       35      NaN      15     45\n",
       "store 2     15      5       10     50.0       2      7"
      ]
     },
     "execution_count": 13,
     "metadata": {},
     "output_type": "execute_result"
    }
   ],
   "source": [
    "store_items['suits'] = store_items['pants'] + store_items['shirts']\n",
    "\n",
    "store_items"
   ]
  },
  {
   "cell_type": "markdown",
   "id": "c7e04b59-3df4-403a-b6fe-15bbf44aa242",
   "metadata": {},
   "source": [
    "Suppose now, that you opened a new store and you need to add the number of items in the stock of that new store into your DataFrame. We can do this by adding a new row to the **store_items** Dataframe. To add rows to our DataFrame we first have to create a new Dataframe and then append it to the original DataFrame."
   ]
  },
  {
   "cell_type": "code",
   "execution_count": 14,
   "id": "e7163cb9-9a0e-4bd2-9335-13428be8e0cc",
   "metadata": {},
   "outputs": [
    {
     "data": {
      "text/html": [
       "<div>\n",
       "<style scoped>\n",
       "    .dataframe tbody tr th:only-of-type {\n",
       "        vertical-align: middle;\n",
       "    }\n",
       "\n",
       "    .dataframe tbody tr th {\n",
       "        vertical-align: top;\n",
       "    }\n",
       "\n",
       "    .dataframe thead th {\n",
       "        text-align: right;\n",
       "    }\n",
       "</style>\n",
       "<table border=\"1\" class=\"dataframe\">\n",
       "  <thead>\n",
       "    <tr style=\"text-align: right;\">\n",
       "      <th></th>\n",
       "      <th>bikes</th>\n",
       "      <th>pants</th>\n",
       "      <th>watches</th>\n",
       "      <th>glasses</th>\n",
       "    </tr>\n",
       "  </thead>\n",
       "  <tbody>\n",
       "    <tr>\n",
       "      <th>store 3</th>\n",
       "      <td>20</td>\n",
       "      <td>30</td>\n",
       "      <td>35</td>\n",
       "      <td>4</td>\n",
       "    </tr>\n",
       "  </tbody>\n",
       "</table>\n",
       "</div>"
      ],
      "text/plain": [
       "         bikes  pants  watches  glasses\n",
       "store 3     20     30       35        4"
      ]
     },
     "execution_count": 14,
     "metadata": {},
     "output_type": "execute_result"
    }
   ],
   "source": [
    "new_items = [{'bikes': 20, 'pants': 30, 'watches': 35, 'glasses': 4}]\n",
    "new_store = pd.DataFrame(new_items, index = ['store 3'])\n",
    "\n",
    "new_store"
   ]
  },
  {
   "cell_type": "markdown",
   "id": "f06b7e7d-03e9-4168-8ec0-504c73a42dd1",
   "metadata": {},
   "source": [
    "**Append the row to the DataFrame**"
   ]
  },
  {
   "cell_type": "code",
   "execution_count": 15,
   "id": "715d6555-1999-4619-9950-127dbd32ca58",
   "metadata": {},
   "outputs": [
    {
     "data": {
      "text/html": [
       "<div>\n",
       "<style scoped>\n",
       "    .dataframe tbody tr th:only-of-type {\n",
       "        vertical-align: middle;\n",
       "    }\n",
       "\n",
       "    .dataframe tbody tr th {\n",
       "        vertical-align: top;\n",
       "    }\n",
       "\n",
       "    .dataframe thead th {\n",
       "        text-align: right;\n",
       "    }\n",
       "</style>\n",
       "<table border=\"1\" class=\"dataframe\">\n",
       "  <thead>\n",
       "    <tr style=\"text-align: right;\">\n",
       "      <th></th>\n",
       "      <th>bikes</th>\n",
       "      <th>pants</th>\n",
       "      <th>watches</th>\n",
       "      <th>glasses</th>\n",
       "      <th>shirts</th>\n",
       "      <th>suits</th>\n",
       "    </tr>\n",
       "  </thead>\n",
       "  <tbody>\n",
       "    <tr>\n",
       "      <th>store 1</th>\n",
       "      <td>20</td>\n",
       "      <td>30</td>\n",
       "      <td>35</td>\n",
       "      <td>NaN</td>\n",
       "      <td>15.0</td>\n",
       "      <td>45.0</td>\n",
       "    </tr>\n",
       "    <tr>\n",
       "      <th>store 2</th>\n",
       "      <td>15</td>\n",
       "      <td>5</td>\n",
       "      <td>10</td>\n",
       "      <td>50.0</td>\n",
       "      <td>2.0</td>\n",
       "      <td>7.0</td>\n",
       "    </tr>\n",
       "    <tr>\n",
       "      <th>store 3</th>\n",
       "      <td>20</td>\n",
       "      <td>30</td>\n",
       "      <td>35</td>\n",
       "      <td>4.0</td>\n",
       "      <td>NaN</td>\n",
       "      <td>NaN</td>\n",
       "    </tr>\n",
       "  </tbody>\n",
       "</table>\n",
       "</div>"
      ],
      "text/plain": [
       "         bikes  pants  watches  glasses  shirts  suits\n",
       "store 1     20     30       35      NaN    15.0   45.0\n",
       "store 2     15      5       10     50.0     2.0    7.0\n",
       "store 3     20     30       35      4.0     NaN    NaN"
      ]
     },
     "execution_count": 15,
     "metadata": {},
     "output_type": "execute_result"
    }
   ],
   "source": [
    "store_items = pd.concat([store_items, new_store])\n",
    "\n",
    "store_items"
   ]
  },
  {
   "cell_type": "code",
   "execution_count": 16,
   "id": "31f49686-ed53-466b-a90a-f8536a4aafab",
   "metadata": {},
   "outputs": [
    {
     "data": {
      "text/html": [
       "<div>\n",
       "<style scoped>\n",
       "    .dataframe tbody tr th:only-of-type {\n",
       "        vertical-align: middle;\n",
       "    }\n",
       "\n",
       "    .dataframe tbody tr th {\n",
       "        vertical-align: top;\n",
       "    }\n",
       "\n",
       "    .dataframe thead th {\n",
       "        text-align: right;\n",
       "    }\n",
       "</style>\n",
       "<table border=\"1\" class=\"dataframe\">\n",
       "  <thead>\n",
       "    <tr style=\"text-align: right;\">\n",
       "      <th></th>\n",
       "      <th>bikes</th>\n",
       "      <th>pants</th>\n",
       "      <th>watches</th>\n",
       "      <th>glasses</th>\n",
       "      <th>shirts</th>\n",
       "      <th>suits</th>\n",
       "      <th>new watches</th>\n",
       "    </tr>\n",
       "  </thead>\n",
       "  <tbody>\n",
       "    <tr>\n",
       "      <th>store 1</th>\n",
       "      <td>20</td>\n",
       "      <td>30</td>\n",
       "      <td>35</td>\n",
       "      <td>NaN</td>\n",
       "      <td>15.0</td>\n",
       "      <td>45.0</td>\n",
       "      <td>NaN</td>\n",
       "    </tr>\n",
       "    <tr>\n",
       "      <th>store 2</th>\n",
       "      <td>15</td>\n",
       "      <td>5</td>\n",
       "      <td>10</td>\n",
       "      <td>50.0</td>\n",
       "      <td>2.0</td>\n",
       "      <td>7.0</td>\n",
       "      <td>10.0</td>\n",
       "    </tr>\n",
       "    <tr>\n",
       "      <th>store 3</th>\n",
       "      <td>20</td>\n",
       "      <td>30</td>\n",
       "      <td>35</td>\n",
       "      <td>4.0</td>\n",
       "      <td>NaN</td>\n",
       "      <td>NaN</td>\n",
       "      <td>35.0</td>\n",
       "    </tr>\n",
       "  </tbody>\n",
       "</table>\n",
       "</div>"
      ],
      "text/plain": [
       "         bikes  pants  watches  glasses  shirts  suits  new watches\n",
       "store 1     20     30       35      NaN    15.0   45.0          NaN\n",
       "store 2     15      5       10     50.0     2.0    7.0         10.0\n",
       "store 3     20     30       35      4.0     NaN    NaN         35.0"
      ]
     },
     "execution_count": 16,
     "metadata": {},
     "output_type": "execute_result"
    }
   ],
   "source": [
    "store_items['new watches'] = store_items['watches'][1:]\n",
    "store_items"
   ]
  },
  {
   "cell_type": "markdown",
   "id": "eb3a4fd3-ca5f-464f-9239-af5009438e50",
   "metadata": {},
   "source": [
    "It is also possible, to insert new columns into the DataFrames anywhere we want. The dataframe.insert(loc, label, data) method allows us to insert a new column in the dataframe at location loc, with the given column label, and given data. Let's add new column named shoes right before the suits column. Since suits has numerical index value 4 then we will use this value as loc. "
   ]
  },
  {
   "cell_type": "markdown",
   "id": "cf40fb3a-1c44-4c8e-b964-8790fa4e8a71",
   "metadata": {},
   "source": [
    "**Add new column at a specific location**"
   ]
  },
  {
   "cell_type": "code",
   "execution_count": 17,
   "id": "eab6aef4-773e-4743-9f2a-18851ffc37ab",
   "metadata": {},
   "outputs": [
    {
     "data": {
      "text/html": [
       "<div>\n",
       "<style scoped>\n",
       "    .dataframe tbody tr th:only-of-type {\n",
       "        vertical-align: middle;\n",
       "    }\n",
       "\n",
       "    .dataframe tbody tr th {\n",
       "        vertical-align: top;\n",
       "    }\n",
       "\n",
       "    .dataframe thead th {\n",
       "        text-align: right;\n",
       "    }\n",
       "</style>\n",
       "<table border=\"1\" class=\"dataframe\">\n",
       "  <thead>\n",
       "    <tr style=\"text-align: right;\">\n",
       "      <th></th>\n",
       "      <th>bikes</th>\n",
       "      <th>pants</th>\n",
       "      <th>watches</th>\n",
       "      <th>glasses</th>\n",
       "      <th>shoes</th>\n",
       "      <th>shirts</th>\n",
       "      <th>suits</th>\n",
       "      <th>new watches</th>\n",
       "    </tr>\n",
       "  </thead>\n",
       "  <tbody>\n",
       "    <tr>\n",
       "      <th>store 1</th>\n",
       "      <td>20</td>\n",
       "      <td>30</td>\n",
       "      <td>35</td>\n",
       "      <td>NaN</td>\n",
       "      <td>8</td>\n",
       "      <td>15.0</td>\n",
       "      <td>45.0</td>\n",
       "      <td>NaN</td>\n",
       "    </tr>\n",
       "    <tr>\n",
       "      <th>store 2</th>\n",
       "      <td>15</td>\n",
       "      <td>5</td>\n",
       "      <td>10</td>\n",
       "      <td>50.0</td>\n",
       "      <td>5</td>\n",
       "      <td>2.0</td>\n",
       "      <td>7.0</td>\n",
       "      <td>10.0</td>\n",
       "    </tr>\n",
       "    <tr>\n",
       "      <th>store 3</th>\n",
       "      <td>20</td>\n",
       "      <td>30</td>\n",
       "      <td>35</td>\n",
       "      <td>4.0</td>\n",
       "      <td>0</td>\n",
       "      <td>NaN</td>\n",
       "      <td>NaN</td>\n",
       "      <td>35.0</td>\n",
       "    </tr>\n",
       "  </tbody>\n",
       "</table>\n",
       "</div>"
      ],
      "text/plain": [
       "         bikes  pants  watches  glasses  shoes  shirts  suits  new watches\n",
       "store 1     20     30       35      NaN      8    15.0   45.0          NaN\n",
       "store 2     15      5       10     50.0      5     2.0    7.0         10.0\n",
       "store 3     20     30       35      4.0      0     NaN    NaN         35.0"
      ]
     },
     "execution_count": 17,
     "metadata": {},
     "output_type": "execute_result"
    }
   ],
   "source": [
    "store_items.insert(4, 'shoes', [8, 5, 0])\n",
    "\n",
    "store_items"
   ]
  },
  {
   "cell_type": "markdown",
   "id": "8fc7fc38-45c8-45fb-bdbb-c1f5726374d1",
   "metadata": {},
   "source": [
    "Just as we can add rows and columns we can also delete them. To delete rows and columns from our DataFrame we will use the **.pop()** and **.drop()** methods. The **.pop()** method only allows us **to delete columns**, while the **.drop()** method can be used **to delete both rows and columns by use of the axis keyword**."
   ]
  },
  {
   "cell_type": "markdown",
   "id": "a149d1ad-534f-41d6-91c2-b4c1c0b1470d",
   "metadata": {},
   "source": [
    "**Delete one column from a DataFrame**"
   ]
  },
  {
   "cell_type": "code",
   "execution_count": 18,
   "id": "e97281bb-1c9f-4936-86ec-0fa09bf15aa2",
   "metadata": {},
   "outputs": [
    {
     "data": {
      "text/html": [
       "<div>\n",
       "<style scoped>\n",
       "    .dataframe tbody tr th:only-of-type {\n",
       "        vertical-align: middle;\n",
       "    }\n",
       "\n",
       "    .dataframe tbody tr th {\n",
       "        vertical-align: top;\n",
       "    }\n",
       "\n",
       "    .dataframe thead th {\n",
       "        text-align: right;\n",
       "    }\n",
       "</style>\n",
       "<table border=\"1\" class=\"dataframe\">\n",
       "  <thead>\n",
       "    <tr style=\"text-align: right;\">\n",
       "      <th></th>\n",
       "      <th>bikes</th>\n",
       "      <th>pants</th>\n",
       "      <th>watches</th>\n",
       "      <th>glasses</th>\n",
       "      <th>shoes</th>\n",
       "      <th>shirts</th>\n",
       "      <th>suits</th>\n",
       "    </tr>\n",
       "  </thead>\n",
       "  <tbody>\n",
       "    <tr>\n",
       "      <th>store 1</th>\n",
       "      <td>20</td>\n",
       "      <td>30</td>\n",
       "      <td>35</td>\n",
       "      <td>NaN</td>\n",
       "      <td>8</td>\n",
       "      <td>15.0</td>\n",
       "      <td>45.0</td>\n",
       "    </tr>\n",
       "    <tr>\n",
       "      <th>store 2</th>\n",
       "      <td>15</td>\n",
       "      <td>5</td>\n",
       "      <td>10</td>\n",
       "      <td>50.0</td>\n",
       "      <td>5</td>\n",
       "      <td>2.0</td>\n",
       "      <td>7.0</td>\n",
       "    </tr>\n",
       "    <tr>\n",
       "      <th>store 3</th>\n",
       "      <td>20</td>\n",
       "      <td>30</td>\n",
       "      <td>35</td>\n",
       "      <td>4.0</td>\n",
       "      <td>0</td>\n",
       "      <td>NaN</td>\n",
       "      <td>NaN</td>\n",
       "    </tr>\n",
       "  </tbody>\n",
       "</table>\n",
       "</div>"
      ],
      "text/plain": [
       "         bikes  pants  watches  glasses  shoes  shirts  suits\n",
       "store 1     20     30       35      NaN      8    15.0   45.0\n",
       "store 2     15      5       10     50.0      5     2.0    7.0\n",
       "store 3     20     30       35      4.0      0     NaN    NaN"
      ]
     },
     "execution_count": 18,
     "metadata": {},
     "output_type": "execute_result"
    }
   ],
   "source": [
    "store_items.pop('new watches')\n",
    "store_items"
   ]
  },
  {
   "cell_type": "markdown",
   "id": "02634db4-db05-436c-8a7b-5adf6a0f1867",
   "metadata": {},
   "source": [
    "**Delete Multiple Columns from a DataFrame**"
   ]
  },
  {
   "cell_type": "code",
   "execution_count": 19,
   "id": "23ed3f46-b4df-4aa6-9c96-f01bfa2acafa",
   "metadata": {},
   "outputs": [
    {
     "data": {
      "text/html": [
       "<div>\n",
       "<style scoped>\n",
       "    .dataframe tbody tr th:only-of-type {\n",
       "        vertical-align: middle;\n",
       "    }\n",
       "\n",
       "    .dataframe tbody tr th {\n",
       "        vertical-align: top;\n",
       "    }\n",
       "\n",
       "    .dataframe thead th {\n",
       "        text-align: right;\n",
       "    }\n",
       "</style>\n",
       "<table border=\"1\" class=\"dataframe\">\n",
       "  <thead>\n",
       "    <tr style=\"text-align: right;\">\n",
       "      <th></th>\n",
       "      <th>bikes</th>\n",
       "      <th>pants</th>\n",
       "      <th>glasses</th>\n",
       "      <th>shirts</th>\n",
       "      <th>suits</th>\n",
       "    </tr>\n",
       "  </thead>\n",
       "  <tbody>\n",
       "    <tr>\n",
       "      <th>store 1</th>\n",
       "      <td>20</td>\n",
       "      <td>30</td>\n",
       "      <td>NaN</td>\n",
       "      <td>15.0</td>\n",
       "      <td>45.0</td>\n",
       "    </tr>\n",
       "    <tr>\n",
       "      <th>store 2</th>\n",
       "      <td>15</td>\n",
       "      <td>5</td>\n",
       "      <td>50.0</td>\n",
       "      <td>2.0</td>\n",
       "      <td>7.0</td>\n",
       "    </tr>\n",
       "    <tr>\n",
       "      <th>store 3</th>\n",
       "      <td>20</td>\n",
       "      <td>30</td>\n",
       "      <td>4.0</td>\n",
       "      <td>NaN</td>\n",
       "      <td>NaN</td>\n",
       "    </tr>\n",
       "  </tbody>\n",
       "</table>\n",
       "</div>"
      ],
      "text/plain": [
       "         bikes  pants  glasses  shirts  suits\n",
       "store 1     20     30      NaN    15.0   45.0\n",
       "store 2     15      5     50.0     2.0    7.0\n",
       "store 3     20     30      4.0     NaN    NaN"
      ]
     },
     "execution_count": 19,
     "metadata": {},
     "output_type": "execute_result"
    }
   ],
   "source": [
    "store_items = store_items.drop(['watches', 'shoes'], axis = 1)\n",
    "\n",
    "store_items"
   ]
  },
  {
   "cell_type": "markdown",
   "id": "e09788c3-c967-4f24-b078-7408dfd8a09a",
   "metadata": {},
   "source": [
    "**Delete rows from a DataFrame**"
   ]
  },
  {
   "cell_type": "code",
   "execution_count": 20,
   "id": "cd19ca58-e45d-46a0-be1e-32d1ba612188",
   "metadata": {},
   "outputs": [
    {
     "data": {
      "text/html": [
       "<div>\n",
       "<style scoped>\n",
       "    .dataframe tbody tr th:only-of-type {\n",
       "        vertical-align: middle;\n",
       "    }\n",
       "\n",
       "    .dataframe tbody tr th {\n",
       "        vertical-align: top;\n",
       "    }\n",
       "\n",
       "    .dataframe thead th {\n",
       "        text-align: right;\n",
       "    }\n",
       "</style>\n",
       "<table border=\"1\" class=\"dataframe\">\n",
       "  <thead>\n",
       "    <tr style=\"text-align: right;\">\n",
       "      <th></th>\n",
       "      <th>bikes</th>\n",
       "      <th>pants</th>\n",
       "      <th>glasses</th>\n",
       "      <th>shirts</th>\n",
       "      <th>suits</th>\n",
       "    </tr>\n",
       "  </thead>\n",
       "  <tbody>\n",
       "    <tr>\n",
       "      <th>store 3</th>\n",
       "      <td>20</td>\n",
       "      <td>30</td>\n",
       "      <td>4.0</td>\n",
       "      <td>NaN</td>\n",
       "      <td>NaN</td>\n",
       "    </tr>\n",
       "  </tbody>\n",
       "</table>\n",
       "</div>"
      ],
      "text/plain": [
       "         bikes  pants  glasses  shirts  suits\n",
       "store 3     20     30      4.0     NaN    NaN"
      ]
     },
     "execution_count": 20,
     "metadata": {},
     "output_type": "execute_result"
    }
   ],
   "source": [
    "store_items = store_items.drop(['store 2', 'store 1'], axis = 0)\n",
    "\n",
    "store_items"
   ]
  },
  {
   "cell_type": "markdown",
   "id": "85224258-46be-4c88-bb29-1b6375533598",
   "metadata": {},
   "source": [
    "Sometimes we might need to change the row and column labels. Let's change the bikes column label to hats using the **.rename()** method"
   ]
  },
  {
   "cell_type": "markdown",
   "id": "d64801a6-ba70-4ac5-8e3f-e9880d27b81a",
   "metadata": {},
   "source": [
    "**Modify the Column Label**"
   ]
  },
  {
   "cell_type": "code",
   "execution_count": 21,
   "id": "b7782c71-e86d-45b9-9cfb-ecdb476f0a97",
   "metadata": {},
   "outputs": [
    {
     "data": {
      "text/html": [
       "<div>\n",
       "<style scoped>\n",
       "    .dataframe tbody tr th:only-of-type {\n",
       "        vertical-align: middle;\n",
       "    }\n",
       "\n",
       "    .dataframe tbody tr th {\n",
       "        vertical-align: top;\n",
       "    }\n",
       "\n",
       "    .dataframe thead th {\n",
       "        text-align: right;\n",
       "    }\n",
       "</style>\n",
       "<table border=\"1\" class=\"dataframe\">\n",
       "  <thead>\n",
       "    <tr style=\"text-align: right;\">\n",
       "      <th></th>\n",
       "      <th>hats</th>\n",
       "      <th>pants</th>\n",
       "      <th>glasses</th>\n",
       "      <th>shirts</th>\n",
       "      <th>suits</th>\n",
       "    </tr>\n",
       "  </thead>\n",
       "  <tbody>\n",
       "    <tr>\n",
       "      <th>store 3</th>\n",
       "      <td>20</td>\n",
       "      <td>30</td>\n",
       "      <td>4.0</td>\n",
       "      <td>NaN</td>\n",
       "      <td>NaN</td>\n",
       "    </tr>\n",
       "  </tbody>\n",
       "</table>\n",
       "</div>"
      ],
      "text/plain": [
       "         hats  pants  glasses  shirts  suits\n",
       "store 3    20     30      4.0     NaN    NaN"
      ]
     },
     "execution_count": 21,
     "metadata": {},
     "output_type": "execute_result"
    }
   ],
   "source": [
    "# We change the column label bikes to hats\n",
    "store_items = store_items.rename(columns = {'bikes': 'hats'})\n",
    "\n",
    "# we display the modified DataFrame\n",
    "store_items"
   ]
  },
  {
   "cell_type": "markdown",
   "id": "dbf2e945-2c8c-4fc4-901c-f403b912f930",
   "metadata": {},
   "source": [
    "**Modify the Row Label**"
   ]
  },
  {
   "cell_type": "code",
   "execution_count": 22,
   "id": "77983ae7-0992-42d7-b8e7-52979c45ab84",
   "metadata": {},
   "outputs": [
    {
     "data": {
      "text/html": [
       "<div>\n",
       "<style scoped>\n",
       "    .dataframe tbody tr th:only-of-type {\n",
       "        vertical-align: middle;\n",
       "    }\n",
       "\n",
       "    .dataframe tbody tr th {\n",
       "        vertical-align: top;\n",
       "    }\n",
       "\n",
       "    .dataframe thead th {\n",
       "        text-align: right;\n",
       "    }\n",
       "</style>\n",
       "<table border=\"1\" class=\"dataframe\">\n",
       "  <thead>\n",
       "    <tr style=\"text-align: right;\">\n",
       "      <th></th>\n",
       "      <th>hats</th>\n",
       "      <th>pants</th>\n",
       "      <th>glasses</th>\n",
       "      <th>shirts</th>\n",
       "      <th>suits</th>\n",
       "    </tr>\n",
       "  </thead>\n",
       "  <tbody>\n",
       "    <tr>\n",
       "      <th>last store</th>\n",
       "      <td>20</td>\n",
       "      <td>30</td>\n",
       "      <td>4.0</td>\n",
       "      <td>NaN</td>\n",
       "      <td>NaN</td>\n",
       "    </tr>\n",
       "  </tbody>\n",
       "</table>\n",
       "</div>"
      ],
      "text/plain": [
       "            hats  pants  glasses  shirts  suits\n",
       "last store    20     30      4.0     NaN    NaN"
      ]
     },
     "execution_count": 22,
     "metadata": {},
     "output_type": "execute_result"
    }
   ],
   "source": [
    "store_items = store_items.rename(index = {'store 3': 'last store'})\n",
    "\n",
    "store_items"
   ]
  },
  {
   "cell_type": "markdown",
   "id": "43770940-fe30-4139-bbe2-b8e78c37c509",
   "metadata": {},
   "source": [
    "As mentioned earlier, before we can begin training our learning algorithms with large datasets, we usually need to clean the data first. This means we need to have a method for detecting and correcting errors in our data. While any given dataset can have many types of bad data, suc as outliers or incorrect values, the type of bad data we encounter almost always is missing values. Pandas assigns **NaN** values to missing data. "
   ]
  },
  {
   "cell_type": "markdown",
   "id": "49cd40eb-303d-483c-a01b-206268e9e405",
   "metadata": {},
   "source": [
    "**Example 1: Create a DataFrame**"
   ]
  },
  {
   "cell_type": "code",
   "execution_count": 23,
   "id": "5c6fcec8-bbd8-4f3b-9076-a8a079e83510",
   "metadata": {},
   "outputs": [
    {
     "data": {
      "text/html": [
       "<div>\n",
       "<style scoped>\n",
       "    .dataframe tbody tr th:only-of-type {\n",
       "        vertical-align: middle;\n",
       "    }\n",
       "\n",
       "    .dataframe tbody tr th {\n",
       "        vertical-align: top;\n",
       "    }\n",
       "\n",
       "    .dataframe thead th {\n",
       "        text-align: right;\n",
       "    }\n",
       "</style>\n",
       "<table border=\"1\" class=\"dataframe\">\n",
       "  <thead>\n",
       "    <tr style=\"text-align: right;\">\n",
       "      <th></th>\n",
       "      <th>bikes</th>\n",
       "      <th>pants</th>\n",
       "      <th>watches</th>\n",
       "      <th>shirts</th>\n",
       "      <th>shoes</th>\n",
       "      <th>suits</th>\n",
       "      <th>glasses</th>\n",
       "    </tr>\n",
       "  </thead>\n",
       "  <tbody>\n",
       "    <tr>\n",
       "      <th>store 1</th>\n",
       "      <td>20</td>\n",
       "      <td>30</td>\n",
       "      <td>35</td>\n",
       "      <td>15.0</td>\n",
       "      <td>8</td>\n",
       "      <td>45.0</td>\n",
       "      <td>NaN</td>\n",
       "    </tr>\n",
       "    <tr>\n",
       "      <th>store 2</th>\n",
       "      <td>15</td>\n",
       "      <td>5</td>\n",
       "      <td>10</td>\n",
       "      <td>2.0</td>\n",
       "      <td>5</td>\n",
       "      <td>7.0</td>\n",
       "      <td>50.0</td>\n",
       "    </tr>\n",
       "    <tr>\n",
       "      <th>store 3</th>\n",
       "      <td>20</td>\n",
       "      <td>30</td>\n",
       "      <td>35</td>\n",
       "      <td>NaN</td>\n",
       "      <td>10</td>\n",
       "      <td>NaN</td>\n",
       "      <td>4.0</td>\n",
       "    </tr>\n",
       "  </tbody>\n",
       "</table>\n",
       "</div>"
      ],
      "text/plain": [
       "         bikes  pants  watches  shirts  shoes  suits  glasses\n",
       "store 1     20     30       35    15.0      8   45.0      NaN\n",
       "store 2     15      5       10     2.0      5    7.0     50.0\n",
       "store 3     20     30       35     NaN     10    NaN      4.0"
      ]
     },
     "execution_count": 23,
     "metadata": {},
     "output_type": "execute_result"
    }
   ],
   "source": [
    "items2 = [{'bikes':20, 'pants':30, 'watches':35, 'shirts':15, 'shoes': 8, 'suits': 45},\n",
    "          {'watches': 10, 'glasses': 50, 'bikes': 15, 'pants': 5, 'shirts': 2, 'shoes': 5, 'suits': 7},\n",
    "          {'bikes': 20, 'pants': 30, 'watches': 35, 'glasses': 4, 'shoes':10}]\n",
    "\n",
    "store_items = pd.DataFrame(items2, index = ['store 1', 'store 2', 'store 3'])\n",
    "\n",
    "store_items"
   ]
  },
  {
   "cell_type": "markdown",
   "id": "a12d909e-1d93-4ad8-ade6-6d5366c74afa",
   "metadata": {},
   "source": [
    "We can clearly see that the DataFrame we created has 3 NaN values: one in store 1 and two in store 3. However, in cases where we load very large datasets into a DataFrame, possibly with millions of items, the number of NaN values is not easily visualized. For these cases, we can use a combination of methods to count the number of NaN values in our data. The following example combines the **.isnull()** and the **sum()** methods to count the number of NaN values in our DataFrame"
   ]
  },
  {
   "cell_type": "markdown",
   "id": "e244aa2e-0c0c-4e6e-93fc-feb0d2bb0e8f",
   "metadata": {},
   "source": [
    "**Example 2a: Count the total NaN values**"
   ]
  },
  {
   "cell_type": "code",
   "execution_count": 31,
   "id": "1236aca2-0e50-4b9e-8d9d-9e483520f349",
   "metadata": {},
   "outputs": [
    {
     "name": "stdout",
     "output_type": "stream",
     "text": [
      "X1\n",
      "         bikes  pants  watches  shirts  shoes  suits  glasses\n",
      "store 1  False  False    False   False  False  False     True\n",
      "store 2  False  False    False   False  False  False    False\n",
      "store 3  False  False    False    True  False   True    False\n",
      "X2\n",
      "bikes      0\n",
      "pants      0\n",
      "watches    0\n",
      "shirts     1\n",
      "shoes      0\n",
      "suits      1\n",
      "glasses    1\n",
      "dtype: int64\n",
      "X3\n",
      "3\n"
     ]
    }
   ],
   "source": [
    "x1 = store_items.isnull()\n",
    "print(\"X1\")\n",
    "print(x1)\n",
    "\n",
    "x2 = store_items.isnull().sum()\n",
    "print(\"X2\")\n",
    "print(x2)\n",
    "\n",
    "x3 = store_items.isnull().sum().sum()\n",
    "print(\"X3\")\n",
    "print(x3)"
   ]
  },
  {
   "cell_type": "markdown",
   "id": "a78d372b-24fd-46f9-be2f-0acf841d8aea",
   "metadata": {},
   "source": [
    "In Pandas, logical True values have numerical value 1 and logical False values have numerical value 0. Therefore, we can count the number of NaN values by counting the number of logical True values. In order to count the total number of logical True values we use the .sum() method twice. We have to use it twice because the first sum returns a Pandas Series with the sums of logical True values along columns"
   ]
  },
  {
   "cell_type": "markdown",
   "id": "5723a3bd-a649-4461-87f9-70462c29994b",
   "metadata": {},
   "source": [
    "<table>\n",
    "    <thead>\n",
    "        <tr>\n",
    "            <th>Item</th>\n",
    "            <th>NaN Count</th>\n",
    "        </tr>\n",
    "    </thead>\n",
    "    <tbody>\n",
    "        <tr><td>bikes</td><td>0</td></tr>\n",
    "        <tr><td>pants</td><td>0</td></tr>\n",
    "        <tr><td>watches</td><td>0</td></tr>\n",
    "        <tr><td>shirts</td><td>1</td></tr>\n",
    "        <tr><td>shoes</td><td>0</td></tr>\n",
    "        <tr><td>suits</td><td>1</td></tr>\n",
    "        <tr><td>glasses</td><td>1</td></tr>\n",
    "    </tbody>\n",
    "</table>\n",
    "<p><code>dtype: int64</code></p>\n"
   ]
  },
  {
   "cell_type": "markdown",
   "id": "8601ac81-ee57-4411-9dc4-8107e72c6c14",
   "metadata": {},
   "source": [
    "**Eliminating NaN Values**"
   ]
  },
  {
   "cell_type": "markdown",
   "id": "b4c1a54d-beb7-48a6-a8d4-b5550afcd6b3",
   "metadata": {},
   "source": [
    "Now that we learned how to know if our dataset has any NaN values in it, the next step is to decide what to do with them. In general, we have two options, we can either delete or replace the **NaN** values. We will start by learning how to eliminate rows or columns from our DataFrame that contain any NaN values. The .dropna(axis) method eliminates any rows with NaN values when axis = 0 is used and will eliminate any columns with NaN values when axis = 1 is used.t."
   ]
  },
  {
   "cell_type": "markdown",
   "id": "f0e46057-6362-4827-a60f-ef17e1e43858",
   "metadata": {},
   "source": [
    "**Example 4. Drop rows having NaN values**"
   ]
  },
  {
   "cell_type": "code",
   "execution_count": 32,
   "id": "06e7c1e0-23c1-4820-b451-9cb2bf15c698",
   "metadata": {},
   "outputs": [
    {
     "data": {
      "text/html": [
       "<div>\n",
       "<style scoped>\n",
       "    .dataframe tbody tr th:only-of-type {\n",
       "        vertical-align: middle;\n",
       "    }\n",
       "\n",
       "    .dataframe tbody tr th {\n",
       "        vertical-align: top;\n",
       "    }\n",
       "\n",
       "    .dataframe thead th {\n",
       "        text-align: right;\n",
       "    }\n",
       "</style>\n",
       "<table border=\"1\" class=\"dataframe\">\n",
       "  <thead>\n",
       "    <tr style=\"text-align: right;\">\n",
       "      <th></th>\n",
       "      <th>bikes</th>\n",
       "      <th>pants</th>\n",
       "      <th>watches</th>\n",
       "      <th>shirts</th>\n",
       "      <th>shoes</th>\n",
       "      <th>suits</th>\n",
       "      <th>glasses</th>\n",
       "    </tr>\n",
       "  </thead>\n",
       "  <tbody>\n",
       "    <tr>\n",
       "      <th>store 2</th>\n",
       "      <td>15</td>\n",
       "      <td>5</td>\n",
       "      <td>10</td>\n",
       "      <td>2.0</td>\n",
       "      <td>5</td>\n",
       "      <td>7.0</td>\n",
       "      <td>50.0</td>\n",
       "    </tr>\n",
       "  </tbody>\n",
       "</table>\n",
       "</div>"
      ],
      "text/plain": [
       "         bikes  pants  watches  shirts  shoes  suits  glasses\n",
       "store 2     15      5       10     2.0      5    7.0     50.0"
      ]
     },
     "execution_count": 32,
     "metadata": {},
     "output_type": "execute_result"
    }
   ],
   "source": [
    "store_items.dropna(axis = 0)"
   ]
  },
  {
   "cell_type": "markdown",
   "id": "6c7a99b6-539e-411d-aa2b-726778bc946e",
   "metadata": {},
   "source": [
    "**Example 5. Drop columns having NaN values**"
   ]
  },
  {
   "cell_type": "code",
   "execution_count": 33,
   "id": "e93fb152-0c05-4dad-b410-4778ff54b493",
   "metadata": {},
   "outputs": [
    {
     "data": {
      "text/html": [
       "<div>\n",
       "<style scoped>\n",
       "    .dataframe tbody tr th:only-of-type {\n",
       "        vertical-align: middle;\n",
       "    }\n",
       "\n",
       "    .dataframe tbody tr th {\n",
       "        vertical-align: top;\n",
       "    }\n",
       "\n",
       "    .dataframe thead th {\n",
       "        text-align: right;\n",
       "    }\n",
       "</style>\n",
       "<table border=\"1\" class=\"dataframe\">\n",
       "  <thead>\n",
       "    <tr style=\"text-align: right;\">\n",
       "      <th></th>\n",
       "      <th>bikes</th>\n",
       "      <th>pants</th>\n",
       "      <th>watches</th>\n",
       "      <th>shoes</th>\n",
       "    </tr>\n",
       "  </thead>\n",
       "  <tbody>\n",
       "    <tr>\n",
       "      <th>store 1</th>\n",
       "      <td>20</td>\n",
       "      <td>30</td>\n",
       "      <td>35</td>\n",
       "      <td>8</td>\n",
       "    </tr>\n",
       "    <tr>\n",
       "      <th>store 2</th>\n",
       "      <td>15</td>\n",
       "      <td>5</td>\n",
       "      <td>10</td>\n",
       "      <td>5</td>\n",
       "    </tr>\n",
       "    <tr>\n",
       "      <th>store 3</th>\n",
       "      <td>20</td>\n",
       "      <td>30</td>\n",
       "      <td>35</td>\n",
       "      <td>10</td>\n",
       "    </tr>\n",
       "  </tbody>\n",
       "</table>\n",
       "</div>"
      ],
      "text/plain": [
       "         bikes  pants  watches  shoes\n",
       "store 1     20     30       35      8\n",
       "store 2     15      5       10      5\n",
       "store 3     20     30       35     10"
      ]
     },
     "execution_count": 33,
     "metadata": {},
     "output_type": "execute_result"
    }
   ],
   "source": [
    "store_items.dropna(axis = 1)"
   ]
  },
  {
   "cell_type": "markdown",
   "id": "341e0c9c-120b-46dc-99a5-fe722e78e70d",
   "metadata": {},
   "source": [
    "Notice that the **.dropna()** method eliminates (drops) the rows or columns with **NaN** values out of place. This means that the original DataFrame is not modified. You can always remove the desired rows or columns in place by setting the keyword **inplace = True** inside the **dropna()** function."
   ]
  },
  {
   "cell_type": "markdown",
   "id": "144193b2-f5ce-45f7-96e6-6109cdf09e27",
   "metadata": {},
   "source": [
    "**Substituting NaN Values**"
   ]
  },
  {
   "cell_type": "markdown",
   "id": "84312278-d67c-4538-a961-eb901de23baa",
   "metadata": {},
   "source": [
    "Now, instead of eliminating **NaN** values, we can replace them with suitable values. We could choose for example to replace all **NaN** values with the value 0. We can do this by using the **.fillna()** method."
   ]
  },
  {
   "cell_type": "markdown",
   "id": "60ddced6-5f2d-4aaa-8a65-062fcebf234f",
   "metadata": {},
   "source": [
    "**Example 6: Replace NaN with 0**"
   ]
  },
  {
   "cell_type": "code",
   "execution_count": 34,
   "id": "a6b1fa81-a013-4b4a-a2a4-211dc5c0903b",
   "metadata": {},
   "outputs": [
    {
     "data": {
      "text/html": [
       "<div>\n",
       "<style scoped>\n",
       "    .dataframe tbody tr th:only-of-type {\n",
       "        vertical-align: middle;\n",
       "    }\n",
       "\n",
       "    .dataframe tbody tr th {\n",
       "        vertical-align: top;\n",
       "    }\n",
       "\n",
       "    .dataframe thead th {\n",
       "        text-align: right;\n",
       "    }\n",
       "</style>\n",
       "<table border=\"1\" class=\"dataframe\">\n",
       "  <thead>\n",
       "    <tr style=\"text-align: right;\">\n",
       "      <th></th>\n",
       "      <th>bikes</th>\n",
       "      <th>pants</th>\n",
       "      <th>watches</th>\n",
       "      <th>shirts</th>\n",
       "      <th>shoes</th>\n",
       "      <th>suits</th>\n",
       "      <th>glasses</th>\n",
       "    </tr>\n",
       "  </thead>\n",
       "  <tbody>\n",
       "    <tr>\n",
       "      <th>store 1</th>\n",
       "      <td>20</td>\n",
       "      <td>30</td>\n",
       "      <td>35</td>\n",
       "      <td>15.0</td>\n",
       "      <td>8</td>\n",
       "      <td>45.0</td>\n",
       "      <td>0.0</td>\n",
       "    </tr>\n",
       "    <tr>\n",
       "      <th>store 2</th>\n",
       "      <td>15</td>\n",
       "      <td>5</td>\n",
       "      <td>10</td>\n",
       "      <td>2.0</td>\n",
       "      <td>5</td>\n",
       "      <td>7.0</td>\n",
       "      <td>50.0</td>\n",
       "    </tr>\n",
       "    <tr>\n",
       "      <th>store 3</th>\n",
       "      <td>20</td>\n",
       "      <td>30</td>\n",
       "      <td>35</td>\n",
       "      <td>0.0</td>\n",
       "      <td>10</td>\n",
       "      <td>0.0</td>\n",
       "      <td>4.0</td>\n",
       "    </tr>\n",
       "  </tbody>\n",
       "</table>\n",
       "</div>"
      ],
      "text/plain": [
       "         bikes  pants  watches  shirts  shoes  suits  glasses\n",
       "store 1     20     30       35    15.0      8   45.0      0.0\n",
       "store 2     15      5       10     2.0      5    7.0     50.0\n",
       "store 3     20     30       35     0.0     10    0.0      4.0"
      ]
     },
     "execution_count": 34,
     "metadata": {},
     "output_type": "execute_result"
    }
   ],
   "source": [
    "store_items.fillna(0)"
   ]
  },
  {
   "cell_type": "markdown",
   "id": "6aeeb1bd-6b39-4e18-b304-df636c1fc8f8",
   "metadata": {},
   "source": [
    "We can also use the **.ffill()** method to replace **NaN** values with previous values in the DataFrame, this is known as **forward filling**. When replacing NaN values with forward filling, we can use previous values taken from columns or rows. The **.ffill(axis)** will use the forward filling method to replace NaN values using the previous known value along the given axis."
   ]
  },
  {
   "cell_type": "markdown",
   "id": "a80957ec-c4b0-4a28-84ca-8fedd647a55c",
   "metadata": {},
   "source": [
    "**Example 7: Forward fill NaN values down (axis = 0) the dataframe**"
   ]
  },
  {
   "cell_type": "code",
   "execution_count": 36,
   "id": "1adcba26-14fa-47d9-872d-d499a557295e",
   "metadata": {},
   "outputs": [
    {
     "data": {
      "text/html": [
       "<div>\n",
       "<style scoped>\n",
       "    .dataframe tbody tr th:only-of-type {\n",
       "        vertical-align: middle;\n",
       "    }\n",
       "\n",
       "    .dataframe tbody tr th {\n",
       "        vertical-align: top;\n",
       "    }\n",
       "\n",
       "    .dataframe thead th {\n",
       "        text-align: right;\n",
       "    }\n",
       "</style>\n",
       "<table border=\"1\" class=\"dataframe\">\n",
       "  <thead>\n",
       "    <tr style=\"text-align: right;\">\n",
       "      <th></th>\n",
       "      <th>bikes</th>\n",
       "      <th>pants</th>\n",
       "      <th>watches</th>\n",
       "      <th>shirts</th>\n",
       "      <th>shoes</th>\n",
       "      <th>suits</th>\n",
       "      <th>glasses</th>\n",
       "    </tr>\n",
       "  </thead>\n",
       "  <tbody>\n",
       "    <tr>\n",
       "      <th>store 1</th>\n",
       "      <td>20</td>\n",
       "      <td>30</td>\n",
       "      <td>35</td>\n",
       "      <td>15.0</td>\n",
       "      <td>8</td>\n",
       "      <td>45.0</td>\n",
       "      <td>NaN</td>\n",
       "    </tr>\n",
       "    <tr>\n",
       "      <th>store 2</th>\n",
       "      <td>15</td>\n",
       "      <td>5</td>\n",
       "      <td>10</td>\n",
       "      <td>2.0</td>\n",
       "      <td>5</td>\n",
       "      <td>7.0</td>\n",
       "      <td>50.0</td>\n",
       "    </tr>\n",
       "    <tr>\n",
       "      <th>store 3</th>\n",
       "      <td>20</td>\n",
       "      <td>30</td>\n",
       "      <td>35</td>\n",
       "      <td>2.0</td>\n",
       "      <td>10</td>\n",
       "      <td>7.0</td>\n",
       "      <td>4.0</td>\n",
       "    </tr>\n",
       "  </tbody>\n",
       "</table>\n",
       "</div>"
      ],
      "text/plain": [
       "         bikes  pants  watches  shirts  shoes  suits  glasses\n",
       "store 1     20     30       35    15.0      8   45.0      NaN\n",
       "store 2     15      5       10     2.0      5    7.0     50.0\n",
       "store 3     20     30       35     2.0     10    7.0      4.0"
      ]
     },
     "execution_count": 36,
     "metadata": {},
     "output_type": "execute_result"
    }
   ],
   "source": [
    "store_items.ffill(axis = 0)"
   ]
  },
  {
   "cell_type": "markdown",
   "id": "dd2fae79-b4d3-49ea-ac3f-5bb26d6e1a09",
   "metadata": {},
   "source": [
    "Notice that the two NaN values in store 3 have been replaced with previous values in their columns. However, notice that the NaN value in store 1 didn't get replaced. That's because there are no previous values in this column, since the NaN value is the first value in that column. However, if we do forward fill using the previous row values, this won't happen."
   ]
  },
  {
   "cell_type": "markdown",
   "id": "80943e25-8d21-44b4-ad9d-5720745b25a3",
   "metadata": {},
   "source": [
    "**Example 8: Forward fill NaN values across (axis = 1) the dataframe**"
   ]
  },
  {
   "cell_type": "code",
   "execution_count": 37,
   "id": "14403455-c2a4-41d7-8da4-14c1cfb0b8c0",
   "metadata": {},
   "outputs": [
    {
     "data": {
      "text/html": [
       "<div>\n",
       "<style scoped>\n",
       "    .dataframe tbody tr th:only-of-type {\n",
       "        vertical-align: middle;\n",
       "    }\n",
       "\n",
       "    .dataframe tbody tr th {\n",
       "        vertical-align: top;\n",
       "    }\n",
       "\n",
       "    .dataframe thead th {\n",
       "        text-align: right;\n",
       "    }\n",
       "</style>\n",
       "<table border=\"1\" class=\"dataframe\">\n",
       "  <thead>\n",
       "    <tr style=\"text-align: right;\">\n",
       "      <th></th>\n",
       "      <th>bikes</th>\n",
       "      <th>pants</th>\n",
       "      <th>watches</th>\n",
       "      <th>shirts</th>\n",
       "      <th>shoes</th>\n",
       "      <th>suits</th>\n",
       "      <th>glasses</th>\n",
       "    </tr>\n",
       "  </thead>\n",
       "  <tbody>\n",
       "    <tr>\n",
       "      <th>store 1</th>\n",
       "      <td>20.0</td>\n",
       "      <td>30.0</td>\n",
       "      <td>35.0</td>\n",
       "      <td>15.0</td>\n",
       "      <td>8.0</td>\n",
       "      <td>45.0</td>\n",
       "      <td>45.0</td>\n",
       "    </tr>\n",
       "    <tr>\n",
       "      <th>store 2</th>\n",
       "      <td>15.0</td>\n",
       "      <td>5.0</td>\n",
       "      <td>10.0</td>\n",
       "      <td>2.0</td>\n",
       "      <td>5.0</td>\n",
       "      <td>7.0</td>\n",
       "      <td>50.0</td>\n",
       "    </tr>\n",
       "    <tr>\n",
       "      <th>store 3</th>\n",
       "      <td>20.0</td>\n",
       "      <td>30.0</td>\n",
       "      <td>35.0</td>\n",
       "      <td>35.0</td>\n",
       "      <td>10.0</td>\n",
       "      <td>10.0</td>\n",
       "      <td>4.0</td>\n",
       "    </tr>\n",
       "  </tbody>\n",
       "</table>\n",
       "</div>"
      ],
      "text/plain": [
       "         bikes  pants  watches  shirts  shoes  suits  glasses\n",
       "store 1   20.0   30.0     35.0    15.0    8.0   45.0     45.0\n",
       "store 2   15.0    5.0     10.0     2.0    5.0    7.0     50.0\n",
       "store 3   20.0   30.0     35.0    35.0   10.0   10.0      4.0"
      ]
     },
     "execution_count": 37,
     "metadata": {},
     "output_type": "execute_result"
    }
   ],
   "source": [
    "store_items.ffill(axis = 1)"
   ]
  },
  {
   "cell_type": "markdown",
   "id": "cbdd801f-43bf-421b-b50f-21f4779de62d",
   "metadata": {},
   "source": [
    "We see that in this case all the NaN values have been replaced with the previous row values.\n",
    "\n",
    "Similarly, you can choose to replace the NaN values with the values that go after them in the DataFrame, this is known as **backward filling**. The **.bfill(axis)** will use the backward filling method to replace **NaN** values using the next known value along the given axis. Just like with forward filling we can choose to use row or column values."
   ]
  },
  {
   "cell_type": "markdown",
   "id": "5fbaff98-68b0-4f74-8692-256bee466d92",
   "metadata": {},
   "source": [
    "**Example 9. Backward fill NaN values *down* (axis=0) the dataframe**"
   ]
  },
  {
   "cell_type": "code",
   "execution_count": 38,
   "id": "5b17e79e-bafc-4e8b-bdc0-78e397a4beda",
   "metadata": {},
   "outputs": [
    {
     "data": {
      "text/html": [
       "<div>\n",
       "<style scoped>\n",
       "    .dataframe tbody tr th:only-of-type {\n",
       "        vertical-align: middle;\n",
       "    }\n",
       "\n",
       "    .dataframe tbody tr th {\n",
       "        vertical-align: top;\n",
       "    }\n",
       "\n",
       "    .dataframe thead th {\n",
       "        text-align: right;\n",
       "    }\n",
       "</style>\n",
       "<table border=\"1\" class=\"dataframe\">\n",
       "  <thead>\n",
       "    <tr style=\"text-align: right;\">\n",
       "      <th></th>\n",
       "      <th>bikes</th>\n",
       "      <th>pants</th>\n",
       "      <th>watches</th>\n",
       "      <th>shirts</th>\n",
       "      <th>shoes</th>\n",
       "      <th>suits</th>\n",
       "      <th>glasses</th>\n",
       "    </tr>\n",
       "  </thead>\n",
       "  <tbody>\n",
       "    <tr>\n",
       "      <th>store 1</th>\n",
       "      <td>20</td>\n",
       "      <td>30</td>\n",
       "      <td>35</td>\n",
       "      <td>15.0</td>\n",
       "      <td>8</td>\n",
       "      <td>45.0</td>\n",
       "      <td>50.0</td>\n",
       "    </tr>\n",
       "    <tr>\n",
       "      <th>store 2</th>\n",
       "      <td>15</td>\n",
       "      <td>5</td>\n",
       "      <td>10</td>\n",
       "      <td>2.0</td>\n",
       "      <td>5</td>\n",
       "      <td>7.0</td>\n",
       "      <td>50.0</td>\n",
       "    </tr>\n",
       "    <tr>\n",
       "      <th>store 3</th>\n",
       "      <td>20</td>\n",
       "      <td>30</td>\n",
       "      <td>35</td>\n",
       "      <td>NaN</td>\n",
       "      <td>10</td>\n",
       "      <td>NaN</td>\n",
       "      <td>4.0</td>\n",
       "    </tr>\n",
       "  </tbody>\n",
       "</table>\n",
       "</div>"
      ],
      "text/plain": [
       "         bikes  pants  watches  shirts  shoes  suits  glasses\n",
       "store 1     20     30       35    15.0      8   45.0     50.0\n",
       "store 2     15      5       10     2.0      5    7.0     50.0\n",
       "store 3     20     30       35     NaN     10    NaN      4.0"
      ]
     },
     "execution_count": 38,
     "metadata": {},
     "output_type": "execute_result"
    }
   ],
   "source": [
    "store_items.bfill(axis = 0)"
   ]
  },
  {
   "cell_type": "markdown",
   "id": "34893efb-8a30-4fba-9e7e-bb142cf7750c",
   "metadata": {},
   "source": [
    "Notice that the **NaN** value in **store 1** has been replaced with the next value in its column. However, notice that the two **NaN** values in **store 3** didn't get replaced. That's because there are no next values in these columns, since these **NaN** values are the last values in those columns. However, if we do backward fill using the next row values, this won't happen. "
   ]
  },
  {
   "cell_type": "markdown",
   "id": "c8605187-6e36-4088-9918-2fe0a1118a5d",
   "metadata": {},
   "source": [
    "**Example 9. Backward fill NaN values *down* (axis=1) the dataframe**"
   ]
  },
  {
   "cell_type": "code",
   "execution_count": 41,
   "id": "37419416-50e5-4bef-b6a6-be6c2309699e",
   "metadata": {},
   "outputs": [
    {
     "data": {
      "text/html": [
       "<div>\n",
       "<style scoped>\n",
       "    .dataframe tbody tr th:only-of-type {\n",
       "        vertical-align: middle;\n",
       "    }\n",
       "\n",
       "    .dataframe tbody tr th {\n",
       "        vertical-align: top;\n",
       "    }\n",
       "\n",
       "    .dataframe thead th {\n",
       "        text-align: right;\n",
       "    }\n",
       "</style>\n",
       "<table border=\"1\" class=\"dataframe\">\n",
       "  <thead>\n",
       "    <tr style=\"text-align: right;\">\n",
       "      <th></th>\n",
       "      <th>bikes</th>\n",
       "      <th>pants</th>\n",
       "      <th>watches</th>\n",
       "      <th>shirts</th>\n",
       "      <th>shoes</th>\n",
       "      <th>suits</th>\n",
       "      <th>glasses</th>\n",
       "    </tr>\n",
       "  </thead>\n",
       "  <tbody>\n",
       "    <tr>\n",
       "      <th>store 1</th>\n",
       "      <td>20.0</td>\n",
       "      <td>30.0</td>\n",
       "      <td>35.0</td>\n",
       "      <td>15.0</td>\n",
       "      <td>8.0</td>\n",
       "      <td>45.0</td>\n",
       "      <td>NaN</td>\n",
       "    </tr>\n",
       "    <tr>\n",
       "      <th>store 2</th>\n",
       "      <td>15.0</td>\n",
       "      <td>5.0</td>\n",
       "      <td>10.0</td>\n",
       "      <td>2.0</td>\n",
       "      <td>5.0</td>\n",
       "      <td>7.0</td>\n",
       "      <td>50.0</td>\n",
       "    </tr>\n",
       "    <tr>\n",
       "      <th>store 3</th>\n",
       "      <td>20.0</td>\n",
       "      <td>30.0</td>\n",
       "      <td>35.0</td>\n",
       "      <td>10.0</td>\n",
       "      <td>10.0</td>\n",
       "      <td>4.0</td>\n",
       "      <td>4.0</td>\n",
       "    </tr>\n",
       "  </tbody>\n",
       "</table>\n",
       "</div>"
      ],
      "text/plain": [
       "         bikes  pants  watches  shirts  shoes  suits  glasses\n",
       "store 1   20.0   30.0     35.0    15.0    8.0   45.0      NaN\n",
       "store 2   15.0    5.0     10.0     2.0    5.0    7.0     50.0\n",
       "store 3   20.0   30.0     35.0    10.0   10.0    4.0      4.0"
      ]
     },
     "execution_count": 41,
     "metadata": {},
     "output_type": "execute_result"
    }
   ],
   "source": [
    "store_items.bfill(axis = 1)"
   ]
  },
  {
   "cell_type": "markdown",
   "id": "1f823054-3ced-408e-a6fb-456f47307560",
   "metadata": {},
   "source": [
    "Notice that the **.fillna()**, **.ffill()**, and **.bfill()** methods **replace (fill)** NaN values **out of place** by default. This means that the original DataFrame **remains unchanged** unless explicitly modified. You can always replace the NaN values in place by setting the parameter **inplace=True** within these functions.\n",
    "\n",
    "We can also choose to replace NaN values by using different interpolation methods. For example, the **.interpolate(method='linear', axis)** method will use linear interpolation to replace NaN values using the values along the given axis."
   ]
  },
  {
   "cell_type": "markdown",
   "id": "b98b1120-4999-42fe-9d4e-c862c3bbe74f",
   "metadata": {},
   "source": [
    "**Example 11. Interpolate (estimate) NaN values down (axis=0) the dataframe**"
   ]
  },
  {
   "cell_type": "code",
   "execution_count": 42,
   "id": "4d558078-df19-43a2-bbe2-119dfa2473b6",
   "metadata": {},
   "outputs": [
    {
     "data": {
      "text/html": [
       "<div>\n",
       "<style scoped>\n",
       "    .dataframe tbody tr th:only-of-type {\n",
       "        vertical-align: middle;\n",
       "    }\n",
       "\n",
       "    .dataframe tbody tr th {\n",
       "        vertical-align: top;\n",
       "    }\n",
       "\n",
       "    .dataframe thead th {\n",
       "        text-align: right;\n",
       "    }\n",
       "</style>\n",
       "<table border=\"1\" class=\"dataframe\">\n",
       "  <thead>\n",
       "    <tr style=\"text-align: right;\">\n",
       "      <th></th>\n",
       "      <th>bikes</th>\n",
       "      <th>pants</th>\n",
       "      <th>watches</th>\n",
       "      <th>shirts</th>\n",
       "      <th>shoes</th>\n",
       "      <th>suits</th>\n",
       "      <th>glasses</th>\n",
       "    </tr>\n",
       "  </thead>\n",
       "  <tbody>\n",
       "    <tr>\n",
       "      <th>store 1</th>\n",
       "      <td>20</td>\n",
       "      <td>30</td>\n",
       "      <td>35</td>\n",
       "      <td>15.0</td>\n",
       "      <td>8</td>\n",
       "      <td>45.0</td>\n",
       "      <td>NaN</td>\n",
       "    </tr>\n",
       "    <tr>\n",
       "      <th>store 2</th>\n",
       "      <td>15</td>\n",
       "      <td>5</td>\n",
       "      <td>10</td>\n",
       "      <td>2.0</td>\n",
       "      <td>5</td>\n",
       "      <td>7.0</td>\n",
       "      <td>50.0</td>\n",
       "    </tr>\n",
       "    <tr>\n",
       "      <th>store 3</th>\n",
       "      <td>20</td>\n",
       "      <td>30</td>\n",
       "      <td>35</td>\n",
       "      <td>2.0</td>\n",
       "      <td>10</td>\n",
       "      <td>7.0</td>\n",
       "      <td>4.0</td>\n",
       "    </tr>\n",
       "  </tbody>\n",
       "</table>\n",
       "</div>"
      ],
      "text/plain": [
       "         bikes  pants  watches  shirts  shoes  suits  glasses\n",
       "store 1     20     30       35    15.0      8   45.0      NaN\n",
       "store 2     15      5       10     2.0      5    7.0     50.0\n",
       "store 3     20     30       35     2.0     10    7.0      4.0"
      ]
     },
     "execution_count": 42,
     "metadata": {},
     "output_type": "execute_result"
    }
   ],
   "source": [
    "store_items.interpolate(method = \"linear\", axis = 0)"
   ]
  },
  {
   "cell_type": "markdown",
   "id": "2a3640db-eb3f-4ee8-a5f7-86fb3c858c0e",
   "metadata": {},
   "source": [
    "Notice that the two NaN values in store 3 have been replaced with linear interpolated values. However, notice that the NaN value in store 1 didn't get replaced. That's because the NaN value is the first value in that column, and since there is no data before it, the interpolation function can't calculate a value."
   ]
  },
  {
   "cell_type": "markdown",
   "id": "4bcebe8a-ef17-4533-90ca-b086817f064b",
   "metadata": {},
   "source": [
    "**Example 12. Interpolate (estimate) NaN values across (axis=1) the dataframe**"
   ]
  },
  {
   "cell_type": "code",
   "execution_count": 43,
   "id": "c20303d9-828b-44cc-a87e-8168ac120ff4",
   "metadata": {},
   "outputs": [
    {
     "data": {
      "text/html": [
       "<div>\n",
       "<style scoped>\n",
       "    .dataframe tbody tr th:only-of-type {\n",
       "        vertical-align: middle;\n",
       "    }\n",
       "\n",
       "    .dataframe tbody tr th {\n",
       "        vertical-align: top;\n",
       "    }\n",
       "\n",
       "    .dataframe thead th {\n",
       "        text-align: right;\n",
       "    }\n",
       "</style>\n",
       "<table border=\"1\" class=\"dataframe\">\n",
       "  <thead>\n",
       "    <tr style=\"text-align: right;\">\n",
       "      <th></th>\n",
       "      <th>bikes</th>\n",
       "      <th>pants</th>\n",
       "      <th>watches</th>\n",
       "      <th>shirts</th>\n",
       "      <th>shoes</th>\n",
       "      <th>suits</th>\n",
       "      <th>glasses</th>\n",
       "    </tr>\n",
       "  </thead>\n",
       "  <tbody>\n",
       "    <tr>\n",
       "      <th>store 1</th>\n",
       "      <td>20.0</td>\n",
       "      <td>30.0</td>\n",
       "      <td>35.0</td>\n",
       "      <td>15.0</td>\n",
       "      <td>8.0</td>\n",
       "      <td>45.0</td>\n",
       "      <td>45.0</td>\n",
       "    </tr>\n",
       "    <tr>\n",
       "      <th>store 2</th>\n",
       "      <td>15.0</td>\n",
       "      <td>5.0</td>\n",
       "      <td>10.0</td>\n",
       "      <td>2.0</td>\n",
       "      <td>5.0</td>\n",
       "      <td>7.0</td>\n",
       "      <td>50.0</td>\n",
       "    </tr>\n",
       "    <tr>\n",
       "      <th>store 3</th>\n",
       "      <td>20.0</td>\n",
       "      <td>30.0</td>\n",
       "      <td>35.0</td>\n",
       "      <td>22.5</td>\n",
       "      <td>10.0</td>\n",
       "      <td>7.0</td>\n",
       "      <td>4.0</td>\n",
       "    </tr>\n",
       "  </tbody>\n",
       "</table>\n",
       "</div>"
      ],
      "text/plain": [
       "         bikes  pants  watches  shirts  shoes  suits  glasses\n",
       "store 1   20.0   30.0     35.0    15.0    8.0   45.0     45.0\n",
       "store 2   15.0    5.0     10.0     2.0    5.0    7.0     50.0\n",
       "store 3   20.0   30.0     35.0    22.5   10.0    7.0      4.0"
      ]
     },
     "execution_count": 43,
     "metadata": {},
     "output_type": "execute_result"
    }
   ],
   "source": [
    "store_items.interpolate(method = \"linear\", axis = 1)"
   ]
  },
  {
   "cell_type": "markdown",
   "id": "3332ccd8-a217-4254-8ea0-8f98d7ede150",
   "metadata": {},
   "source": [
    "Just as with the other methods we saw, the .interpolate() method replaces NaN values out of place."
   ]
  },
  {
   "cell_type": "code",
   "execution_count": null,
   "id": "861fd7b9-9c2b-48bf-9348-90a1ce2c9810",
   "metadata": {},
   "outputs": [],
   "source": []
  }
 ],
 "metadata": {
  "kernelspec": {
   "display_name": "Python 3 (ipykernel)",
   "language": "python",
   "name": "python3"
  },
  "language_info": {
   "codemirror_mode": {
    "name": "ipython",
    "version": 3
   },
   "file_extension": ".py",
   "mimetype": "text/x-python",
   "name": "python",
   "nbconvert_exporter": "python",
   "pygments_lexer": "ipython3",
   "version": "3.11.5"
  }
 },
 "nbformat": 4,
 "nbformat_minor": 5
}
