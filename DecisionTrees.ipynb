{
 "cells": [
  {
   "cell_type": "markdown",
   "id": "92de2570-293b-487c-bc04-7af985c1f72f",
   "metadata": {},
   "source": [
    "Goal is find an accuracy of 100% on the training set. This is like memorizing the training data! A model designed to have 100% accuracy on training data is unlikely to generalize well to new data. If you pick very large values for your parameters, the model will fit the training set very well but may not generalize well. So, it's critic to find the smallest possible parameters that do the job—then, the model will be more likely to generalize well."
   ]
  },
  {
   "cell_type": "code",
   "execution_count": null,
   "id": "7eb8c589-fc03-4568-a64d-e56ef1613ede",
   "metadata": {},
   "outputs": [],
   "source": []
  }
 ],
 "metadata": {
  "kernelspec": {
   "display_name": "Python 3 (ipykernel)",
   "language": "python",
   "name": "python3"
  },
  "language_info": {
   "codemirror_mode": {
    "name": "ipython",
    "version": 3
   },
   "file_extension": ".py",
   "mimetype": "text/x-python",
   "name": "python",
   "nbconvert_exporter": "python",
   "pygments_lexer": "ipython3",
   "version": "3.11.5"
  }
 },
 "nbformat": 4,
 "nbformat_minor": 5
}
