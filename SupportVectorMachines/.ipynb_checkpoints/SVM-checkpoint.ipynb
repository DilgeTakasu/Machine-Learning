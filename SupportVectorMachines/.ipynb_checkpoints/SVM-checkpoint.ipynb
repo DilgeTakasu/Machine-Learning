{
 "cells": [
  {
   "cell_type": "markdown",
   "id": "2522d770-97b7-4900-a89b-b47c478030b1",
   "metadata": {},
   "source": [
    "# Support Vector Machines (SVM)\n",
    "\n",
    "### Intuition\n",
    "- SVMs are classification algorithms that find the **best decision boundary** (hyperplane) by maximizing the **margin** between classes.\n",
    "- Effective for both **linear** and **non-linear** classification (via kernels).\n",
    "\n",
    "---\n",
    "\n",
    "### Key Concepts\n",
    "- **Maximum Margin Classifier**: Finds the hyperplane with the **largest margin** from support vectors → better generalization.\n",
    "- **Classification with Inseparable Classes**: Introduces **slack variables** to allow misclassifications for robustness.\n",
    "- **Error Functions & Perceptron**: Perceptron minimizes misclassifications directly; SVM minimizes **hinge loss** (convex, more stable).\n",
    "- **C Parameter**: Trade-off between margin size & classification error.  \n",
    "  - Large **C** → narrow margin, fewer errors → risk of overfitting.  \n",
    "  - Small **C** → wider margin, more tolerance → risk of underfitting.\n",
    "\n",
    "---\n",
    "\n",
    "### Kernel Methods\n",
    "- **Polynomial Kernel**  \n",
    "  $$\n",
    "  K(x, z) = (x^\\top z + c)^d\n",
    "  $$  \n",
    "  → Maps data to polynomial feature space (curved boundaries).  \n",
    "  - Degree **d** = hyperparameter.\n",
    "\n",
    "- **RBF (Gaussian) Kernel**  \n",
    "  $$\n",
    "  K(x, z) = \\exp(-\\gamma \\|x - z\\|^2)\n",
    "  $$  \n",
    "  → Measures similarity by distance, creates “mountains” around points.  \n",
    "  - Large **γ (gamma)** → narrow, sharp peaks → risk of overfitting.  \n",
    "  - Small **γ (gamma)** → wide, smooth peaks → risk of underfitting.  \n",
    "  - Remember: \\(\\gamma = \\frac{1}{2\\sigma^2}\\).\n",
    "\n",
    "---\n",
    "\n",
    "### Scikit-learn Example\n",
    "```python\n",
    "from sklearn.svm import SVC\n",
    "\n",
    "# Linear SVM\n",
    "model_linear = SVC(kernel='linear', C=1)\n",
    "\n",
    "# Polynomial SVM\n",
    "model_poly = SVC(kernel='poly', degree=3, C=1)\n",
    "\n",
    "# RBF SVM\n",
    "model_rbf = SVC(kernel='rbf', gamma=0.1, C=1)\n",
    "\n",
    "model_linear.fit(X_train, y_train)\n",
    "y_pred = model_linear.predict(X_test)"
   ]
  },
  {
   "cell_type": "code",
   "execution_count": 9,
   "id": "95a5b9a8-86f3-4a62-bb4e-6bd4fc0601e0",
   "metadata": {},
   "outputs": [],
   "source": [
    "# Import Statements\n",
    "from sklearn.svm import SVC\n",
    "from sklearn.metrics import accuracy_score\n",
    "from sklearn.model_selection import train_test_split\n",
    "import pandas as pd\n",
    "import numpy as np"
   ]
  },
  {
   "cell_type": "code",
   "execution_count": 10,
   "id": "1ae88444-79f5-4e83-a299-4edc36c4baa7",
   "metadata": {},
   "outputs": [],
   "source": [
    "# Read the data\n",
    "data = np.asarray(pd.read_csv('./data/data.csv', header = None))\n",
    "X = data[:, 0:2] # features are assigned to the variable X\n",
    "y = data[:, 2]   # labels are assigned to the variable y"
   ]
  },
  {
   "cell_type": "code",
   "execution_count": 11,
   "id": "fd9ad81d-0a79-4c68-b6de-0a089449f4b6",
   "metadata": {},
   "outputs": [],
   "source": [
    "X_train, X_test, y_train, y_test = train_test_split(X, y, test_size = 0.33, random_state = 42)"
   ]
  },
  {
   "cell_type": "code",
   "execution_count": 12,
   "id": "8f1b0032-187b-4e04-b7ed-f6403383d3a1",
   "metadata": {},
   "outputs": [
    {
     "data": {
      "text/plain": [
       "1.0"
      ]
     },
     "execution_count": 12,
     "metadata": {},
     "output_type": "execute_result"
    }
   ],
   "source": [
    "model = SVC(kernel = 'rbf', gamma = 27)\n",
    "model.fit(X_train, y_train)\n",
    "y_pred = model.predict(X_train)\n",
    "acc = accuracy_score(y_train, y_pred)\n",
    "acc"
   ]
  },
  {
   "cell_type": "code",
   "execution_count": 13,
   "id": "46fb5289-2598-4877-b852-89d95aa16129",
   "metadata": {},
   "outputs": [
    {
     "data": {
      "text/plain": [
       "0.90625"
      ]
     },
     "execution_count": 13,
     "metadata": {},
     "output_type": "execute_result"
    }
   ],
   "source": [
    "y_pred = model.predict(X_test)\n",
    "acc = accuracy_score(y_test, y_pred)\n",
    "acc"
   ]
  }
 ],
 "metadata": {
  "kernelspec": {
   "display_name": "Python 3 (ipykernel)",
   "language": "python",
   "name": "python3"
  },
  "language_info": {
   "codemirror_mode": {
    "name": "ipython",
    "version": 3
   },
   "file_extension": ".py",
   "mimetype": "text/x-python",
   "name": "python",
   "nbconvert_exporter": "python",
   "pygments_lexer": "ipython3",
   "version": "3.11.5"
  }
 },
 "nbformat": 4,
 "nbformat_minor": 5
}
