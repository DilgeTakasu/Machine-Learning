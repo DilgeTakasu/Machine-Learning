{
 "cells": [
  {
   "cell_type": "markdown",
   "id": "53185cdd-b480-43ec-b537-821f9efbf96d",
   "metadata": {},
   "source": [
    "One weight update can be calculated as:\r\n",
    "$$\r\n",
    "\\Delta w_i = \\eta \\, \\delta x_i\r\n",
    "$$\r\n",
    "\r\n",
    "with the error term $\\delta$ as \r\n",
    "$$\r\n",
    "\\delta = (y - \\hat{y}) f'(h) = (y - \\hat{y}) f'\\left( \\sum w_i x_i \\right)\r\n",
    "$$\r\n",
    "\r\n",
    "In this equation, $(y - \\hat{y})$ is the output error and $f'(h)$ refers to the derivative of the activation function, $f(h)$.\r\n"
   ]
  },
  {
   "cell_type": "code",
   "execution_count": 2,
   "id": "73375e2f-d6fe-4fbb-b05e-c2a4bb4bd755",
   "metadata": {},
   "outputs": [
    {
     "name": "stdout",
     "output_type": "stream",
     "text": [
      "Neural Network output:\n",
      "0.5174928576663897\n",
      "Amount of Error:\n",
      "-0.31749285766638974\n",
      "Change in Weights:\n",
      "[-0.003963803079006883, -0.011891409237020648]\n"
     ]
    }
   ],
   "source": [
    "# Code for only one output unit\n",
    "import numpy as np\n",
    "\n",
    "# The sigmoid activation function \n",
    "def sigmoid(x):\n",
    "    return 1 / (1 + np.exp(-x))\n",
    "\n",
    "def sigmoid_prime(x):\n",
    "    return sigmoid(x) * (1 - sigmoid(x))\n",
    "\n",
    "# input data\n",
    "x = np.array([0.1, 0.3])\n",
    "\n",
    "# target\n",
    "y = 0.2\n",
    "\n",
    "# input to output weights\n",
    "weights = np.array([-0.8, 0.5])\n",
    "\n",
    "# the learning rate eta\n",
    "learn_rate = 0.5\n",
    "\n",
    "# the linear combination performed by the node\n",
    "h = np.dot(x, weights)\n",
    "# or h = x[0]*weights[0] + x[1]*weights[1]\n",
    "\n",
    "nn_output = sigmoid(h)\n",
    "\n",
    "error = y - nn_output\n",
    "\n",
    "# output gradient\n",
    "output_grad = sigmoid_prime(h)\n",
    "\n",
    "error_term = error * output_grad\n",
    "\n",
    "# gradient descent step \n",
    "del_w = [learn_rate * error_term * x[0],\n",
    "        learn_rate * error_term * x[1]]\n",
    "\n",
    "# or del_w = learn_rate * error_term * x\n",
    "\n",
    "print('Neural Network output:')\n",
    "print(nn_output)\n",
    "print('Amount of Error:')\n",
    "print(error)\n",
    "print('Change in Weights:')\n",
    "print(del_w)\n",
    "    "
   ]
  },
  {
   "cell_type": "markdown",
   "id": "54e86e3a-313b-4d32-b7eb-f01c14813e01",
   "metadata": {},
   "source": [
    "<h2 style=\"color: darkblue;\">Multilayer Perceptrons</h2>"
   ]
  },
  {
   "cell_type": "code",
   "execution_count": 4,
   "id": "15b1713e-7a7b-4a6f-9a68-cf31bc7601c2",
   "metadata": {},
   "outputs": [
    {
     "name": "stdout",
     "output_type": "stream",
     "text": [
      "Hidden Layer Output:\n",
      "[0.47894473 0.45245464 0.52367715]\n",
      "Output Layer Output:\n",
      "[0.49678997 0.4848364 ]\n"
     ]
    }
   ],
   "source": [
    "import random\n",
    "\n",
    "def sigmoid(x):\n",
    "    return 1 / (1 + np.exp(-x))\n",
    "\n",
    "# Network \n",
    "N_input = 4\n",
    "N_hidden = 3\n",
    "N_output = 2\n",
    "np.random.seed(42)\n",
    "\n",
    "# Making some fake data \n",
    "X = np.random.rand(4)\n",
    "weights_input_to_hidden = np.random.normal(0, scale = 0.1, size = (N_input, N_hidden))\n",
    "weights_hidden_to_output = np.random.normal(0, scale = 0.1, size = (N_hidden, N_output))\n",
    "\n",
    "hidden_layer_in = np.dot(X, weights_input_to_hidden)\n",
    "hidden_layer_out = sigmoid(hidden_layer_in)\n",
    "print(\"Hidden Layer Output:\")\n",
    "print(hidden_layer_out)\n",
    "\n",
    "output_layer_in = np.dot(hidden_layer_out, weights_hidden_to_output)\n",
    "output_layer_out = sigmoid(output_layer_in)\n",
    "print(\"Output Layer Output:\")\n",
    "print(output_layer_out)\n"
   ]
  },
  {
   "cell_type": "code",
   "execution_count": null,
   "id": "95453ae3-1e29-4f11-953a-938b0fb4feb4",
   "metadata": {},
   "outputs": [],
   "source": []
  }
 ],
 "metadata": {
  "kernelspec": {
   "display_name": "Python 3 (ipykernel)",
   "language": "python",
   "name": "python3"
  },
  "language_info": {
   "codemirror_mode": {
    "name": "ipython",
    "version": 3
   },
   "file_extension": ".py",
   "mimetype": "text/x-python",
   "name": "python",
   "nbconvert_exporter": "python",
   "pygments_lexer": "ipython3",
   "version": "3.11.5"
  }
 },
 "nbformat": 4,
 "nbformat_minor": 5
}
