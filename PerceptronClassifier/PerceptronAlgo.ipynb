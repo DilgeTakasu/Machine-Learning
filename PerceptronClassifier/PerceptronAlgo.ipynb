{
 "cells": [
  {
   "cell_type": "markdown",
   "id": "3c691259-9df2-451b-ad52-2172e1c42af3",
   "metadata": {},
   "source": [
    "**For sentiment analysis application developing the perceptron algorithm.**"
   ]
  },
  {
   "cell_type": "markdown",
   "id": "e25b9f47-ad7b-49b3-a786-05e53f026d75",
   "metadata": {},
   "source": [
    "\n",
    "<img src=\"Perceptron.png\" alt=\"A dataset of aliens, the time they said each of the words, anf their mood.\" width=\"400\">"
   ]
  },
  {
   "cell_type": "code",
   "execution_count": 5,
   "id": "57ab67dc-b934-451a-9e4a-f10a5b4c7b0f",
   "metadata": {},
   "outputs": [],
   "source": [
    "import numpy as np\n",
    "import matplotlib.pyplot as plt\n",
    "features = np.array([[1, 0], [0, 2], [1, 1], [1, 2], [1, 3], [2, 2], [2, 3], [3, 2]])\n",
    "labels = np.array([0, 0, 0, 0, 1, 1, 1, 1])"
   ]
  },
  {
   "cell_type": "code",
   "execution_count": 8,
   "id": "ff8a140b-fd0b-4fd4-9240-a5310945a953",
   "metadata": {},
   "outputs": [
    {
     "data": {
      "image/png": "[encoded data removed]",
      "text/plain": [
       "<Figure size 640x480 with 1 Axes>"
      ]
     },
     "metadata": {},
     "output_type": "display_data"
    }
   ],
   "source": [
    "class_sad = features[labels == 0]\n",
    "class_happy = features[labels == 1]\n",
    "\n",
    "# Plot\n",
    "plt.scatter(class_sad[:, 0], class_sad[:, 1], color='red', marker='o', label='Sad')\n",
    "plt.scatter(class_happy[:, 0], class_happy[:, 1], color='cyan', marker='s', label='Happy')\n",
    "\n",
    "# Labels and legend\n",
    "plt.xlabel('aack')\n",
    "plt.ylabel('beep')\n",
    "#plt.title('2D Feature Plot with Labels')\n",
    "plt.legend()\n",
    "plt.show()"
   ]
  },
  {
   "cell_type": "code",
   "execution_count": null,
   "id": "7e31ed38-3a17-4c78-9a35-06cdab581be1",
   "metadata": {},
   "outputs": [],
   "source": [
    "# score function calculates the dot product between the weights and the features\n",
    "# adds the bias\n",
    "def score(weights, bias, features):\n",
    "    return np.dot(features, weights) + bias\n",
    "\n",
    "def step(x):\n",
    "    if x >= 0:\n",
    "        return 1\n",
    "    return 0\n",
    "\n",
    "# Checks the score, and if it is positive or zero, return 1; if it is negative, returns 0\n",
    "def prediction(weights, bias, features):\n",
    "    return step(score(weights, bias, features))\n",
    "\n",
    "# If the prediction is equal to the label, then the point is well classified\n",
    "# which means the error is zero\n",
    "def error(weights, bias, features, label):\n",
    "    pred = prediction(weights, bias, features)\n",
    "    if pred == label:\n",
    "        return 0\n",
    "    else:\n",
    "        return np.abs(score(weights, bias, features))"
   ]
  }
 ],
 "metadata": {
  "kernelspec": {
   "display_name": "Python 3 (ipykernel)",
   "language": "python",
   "name": "python3"
  },
  "language_info": {
   "codemirror_mode": {
    "name": "ipython",
    "version": 3
   },
   "file_extension": ".py",
   "mimetype": "text/x-python",
   "name": "python",
   "nbconvert_exporter": "python",
   "pygments_lexer": "ipython3",
   "version": "3.11.5"
  }
 },
 "nbformat": 4,
 "nbformat_minor": 5
}
