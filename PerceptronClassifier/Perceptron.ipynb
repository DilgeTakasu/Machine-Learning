{
 "cells": [
  {
   "cell_type": "markdown",
   "id": "7bff62c5-97de-4a4d-aa60-c211f1e50ccc",
   "metadata": {},
   "source": [
    "<h1 style=\"color: darkblue;\">Perceptron</h1>"
   ]
  },
  {
   "cell_type": "markdown",
   "id": "48dcf706-d522-44e6-a8fa-1e381460b27d",
   "metadata": {},
   "source": [
    "Perceptron processes inputs with weighted connections and a bias, producing binary outputs through an activation function. It is primarily used in binary classification tasks. "
   ]
  }
 ],
 "metadata": {
  "kernelspec": {
   "display_name": "Python 3 (ipykernel)",
   "language": "python",
   "name": "python3"
  },
  "language_info": {
   "codemirror_mode": {
    "name": "ipython",
    "version": 3
   },
   "file_extension": ".py",
   "mimetype": "text/x-python",
   "name": "python",
   "nbconvert_exporter": "python",
   "pygments_lexer": "ipython3",
   "version": "3.11.5"
  }
 },
 "nbformat": 4,
 "nbformat_minor": 5
}
