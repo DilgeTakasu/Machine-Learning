{
 "cells": [
  {
   "cell_type": "code",
   "execution_count": null,
   "id": "0560a070-34f8-4534-bdc0-5726e8e2172a",
   "metadata": {},
   "outputs": [],
   "source": [
    "import matplotlib.pyplot as plt\n",
    "import numpy as np\n",
    "import pandas as pd\n",
    "\n",
    "%matplotlib inline \n",
    "np.random.seed(42)\n",
    "\n",
    "def step_function(t):\n",
    "    return 1 if t >= 0 else 0\n",
    "\n",
    "def prediction(X, W, b):\n",
    "    return step_function(np.dot(X, W) + b)\n",
    "\n",
    "def perceptron_step(X, y, W, b, learning_rate = 0.01):\n",
    "    for i in range(len(X)):\n",
    "        y_hat = prediction(X[i], W, b)\n",
    "        error = y[i] - y_hat\n",
    "        if error == 1:\n",
    "            W[0] += X[i][0] * learning_rate\n",
    "            W[1] += X[i][1] * learning_rate\n",
    "            b += learning_rate\n",
    "        elif error == -1:\n",
    "            W[0] -= X[i][0] * learning_rate\n",
    "            W[1] -= X[i][1] * learning_rate\n",
    "            b -= learning_rate\n",
    "    return W, b\n",
    "\n",
    "X_test = np.array([[1, 1], [1, -1], [-1, 1], [-1, -1]])\n",
    "y_test = np.array([1, 1, 0, 0])\n",
    "W_test = np.array([[0.5], [0.5]])\n",
    "b_test = 0.5 \n",
    "\n",
    "output_W, output_b = perceptron_step(\n",
    "    X_test,\n",
    "    y_test,\n",
    "    W_test,\n",
    "    b_test,\n",
    "    0.01\n",
    ")\n",
    "\n"
   ]
  }
 ],
 "metadata": {
  "kernelspec": {
   "display_name": "Python 3 (ipykernel)",
   "language": "python",
   "name": "python3"
  },
  "language_info": {
   "codemirror_mode": {
    "name": "ipython",
    "version": 3
   },
   "file_extension": ".py",
   "mimetype": "text/x-python",
   "name": "python",
   "nbconvert_exporter": "python",
   "pygments_lexer": "ipython3",
   "version": "3.11.5"
  }
 },
 "nbformat": 4,
 "nbformat_minor": 5
}
