{
 "cells": [
  {
   "cell_type": "code",
   "execution_count": 1,
   "id": "31e8a5e0-9c31-485d-93eb-8d3c0c0690ab",
   "metadata": {},
   "outputs": [],
   "source": [
    "import matplotlib.pyplot as \n",
    "import numpy as np\n",
    "import pandas as pd\n",
    "\n",
    "from sklearn.linear_model import LinearRegression\n",
    "fro"
   ]
  },
  {
   "cell_type": "code",
   "execution_count": null,
   "id": "352c734b-f6a6-4c90-8379-62b2ff0bd7e0",
   "metadata": {},
   "outputs": [],
   "source": []
  }
 ],
 "metadata": {
  "kernelspec": {
   "display_name": "Python 3 (ipykernel)",
   "language": "python",
   "name": "python3"
  },
  "language_info": {
   "codemirror_mode": {
    "name": "ipython",
    "version": 3
   },
   "file_extension": ".py",
   "mimetype": "text/x-python",
   "name": "python",
   "nbconvert_exporter": "python",
   "pygments_lexer": "ipython3",
   "version": "3.11.5"
  }
 },
 "nbformat": 4,
 "nbformat_minor": 5
}
