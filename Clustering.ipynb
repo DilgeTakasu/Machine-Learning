{
 "cells": [
  {
   "cell_type": "markdown",
   "id": "477a2699-262f-446b-9fd8-69d15607da6a",
   "metadata": {},
   "source": [
    "Unsupervised learning is all about understanding how to group our data when we either\n",
    "\n",
    "1. Do not have a label to predict. An example of this is using an algorithm to look at brain scans to find areas that may raise concern. You don't have labels on the images to understand what areas might raise a reason for concern, but you can understand which areas are most similar or different from one another.\n",
    "\n",
    "2. Are not trying to predict a label, but rather group our data together for some other reason! One example of this is when you have tons of data, and you would like to condense it down to a fewer number of features to be used.\n",
    "\n",
    "With that in mind, here are the topics for this lesson:\n",
    "\n",
    "I. Clustering\n",
    "Clustering is one of the most popular unsupervised approaches. In a first look at clustering, you will gain an understanding of what clustering your data means. Then, you will see how the k-means algorithm works. You will put your skills to work to find groupings of similar movies!\n",
    "\n",
    "II. Hierarchical and Density Based Clustering\n",
    "Another set of clustering algorithms takes an approach of using density based 'closeness' measures. At the end of the lesson, you will see how this can be used in traffic classification, as well as in anomaly detection (finding points that aren't like others in your dataset).\n",
    "\n",
    "III. Gaussian Mixture Models and Cluster Validation\n",
    "To extend the density based approaches, you will get some practice with gaussian mixture models. This technique is not far from what you learned in the previous lesson, and it is the last of the clustering algorithms you will learn before moving to matrix decomposition methods.\n",
    "\n",
    "IV. Principal Component Analysis\n",
    "Principal component analysis is one of the most popular decomposition methods available today. In this lesson, you will learn how matrix decomposition methods work conceptually. Then you will apply principal component analysis to images of handwritten digits to reduce the dimensionality of these images.\n",
    "\n",
    "V. Random Projection and Independent Component Analysis\n",
    "Another way to decompose data is through independent component analysis. In this lesson, you will see how this method can pull apart audio related to a piano, cello, and television that has been overlaid in the same file."
   ]
  },
  {
   "cell_type": "code",
   "execution_count": null,
   "id": "b3a41711-0a3e-4f87-a81e-7bf7457e3384",
   "metadata": {},
   "outputs": [],
   "source": []
  }
 ],
 "metadata": {
  "kernelspec": {
   "display_name": "Python 3 (ipykernel)",
   "language": "python",
   "name": "python3"
  },
  "language_info": {
   "codemirror_mode": {
    "name": "ipython",
    "version": 3
   },
   "file_extension": ".py",
   "mimetype": "text/x-python",
   "name": "python",
   "nbconvert_exporter": "python",
   "pygments_lexer": "ipython3",
   "version": "3.11.5"
  }
 },
 "nbformat": 4,
 "nbformat_minor": 5
}
